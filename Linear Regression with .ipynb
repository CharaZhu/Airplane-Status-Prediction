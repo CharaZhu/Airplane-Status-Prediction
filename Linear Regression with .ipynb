{
 "cells": [
  {
   "cell_type": "markdown",
   "metadata": {
    "id": "OTpnyUEJrAjE"
   },
   "source": [
    "# Linear Regression "
   ]
  },
  {
   "cell_type": "markdown",
   "metadata": {
    "id": "o4UwjkNZ3NGk"
   },
   "source": [
    "## Part 1 - Getting Started "
   ]
  },
  {
   "cell_type": "markdown",
   "metadata": {
    "id": "Y62qieYVbct2"
   },
   "source": [
    "In Parts 1- 6 of this project, we are designing a controller to manage the ailerons of an F16 Aircraft! \n",
    "\n",
    "![Ailerons](https://raw.githubusercontent.com/aps1070-2019/datasets/master/img/airplane.gif) [Ref](https://www.grc.nasa.gov/www/k-12/BGA/Mike/airplane_parts_act.htm) \n",
    "\n",
    "\n",
    "The features describe the airplane's status, and our goal is to predict the `Goal` column, which is a command that our controller should issue. We will make our predictions by implementing linear regression without regularization."
   ]
  },
  {
   "cell_type": "code",
   "execution_count": 1,
   "metadata": {
    "executionInfo": {
     "elapsed": 873,
     "status": "ok",
     "timestamp": 1606677755640,
     "user": {
      "displayName": "Fan Zhu",
      "photoUrl": "",
      "userId": "13386576356368939467"
     },
     "user_tz": 300
    },
    "id": "wVI7N2nWbct3"
   },
   "outputs": [],
   "source": [
    "import pandas as pd\n",
    "df=pd.read_csv(\"https://raw.githubusercontent.com/aps1070-2019/datasets/master/F16L.csv\" , skipinitialspace=True)"
   ]
  },
  {
   "cell_type": "markdown",
   "metadata": {
    "id": "MKRMb9Ju3NGl"
   },
   "source": [
    "1. Print the dataframe.\n",
    "2. Prepare your dataset as follows: **[1]**\n",
    "*   Split the dataset into training and validation sets (80% training, 20% validation). When splitting, set `random_state=1`.\n",
    "*   Standardize the data using StandardScaler from sklearn.\n",
    "*   Insert a first column of 1s in both the training and validation data sets.\n"
   ]
  },
  {
   "cell_type": "code",
   "execution_count": 2,
   "metadata": {
    "colab": {
     "base_uri": "https://localhost:8080/",
     "height": 456
    },
    "executionInfo": {
     "elapsed": 1063,
     "status": "ok",
     "timestamp": 1606677755905,
     "user": {
      "displayName": "Fan Zhu",
      "photoUrl": "",
      "userId": "13386576356368939467"
     },
     "user_tz": 300
    },
    "id": "barDBI-f5Q9s",
    "outputId": "c1dc70ce-4989-423b-f6a2-23fa4eb357b1"
   },
   "outputs": [
    {
     "data": {
      "text/html": [
       "<div>\n",
       "<style scoped>\n",
       "    .dataframe tbody tr th:only-of-type {\n",
       "        vertical-align: middle;\n",
       "    }\n",
       "\n",
       "    .dataframe tbody tr th {\n",
       "        vertical-align: top;\n",
       "    }\n",
       "\n",
       "    .dataframe thead th {\n",
       "        text-align: right;\n",
       "    }\n",
       "</style>\n",
       "<table border=\"1\" class=\"dataframe\">\n",
       "  <thead>\n",
       "    <tr style=\"text-align: right;\">\n",
       "      <th></th>\n",
       "      <th>inputs ClimbRate</th>\n",
       "      <th>Sgz</th>\n",
       "      <th>P</th>\n",
       "      <th>Q</th>\n",
       "      <th>CurPitch</th>\n",
       "      <th>CurRoll</th>\n",
       "      <th>AbsRoll</th>\n",
       "      <th>DiffClb</th>\n",
       "      <th>DiffRollRate</th>\n",
       "      <th>DiffDiffClb</th>\n",
       "      <th>SeTime1</th>\n",
       "      <th>SeTime2</th>\n",
       "      <th>SeTime3</th>\n",
       "      <th>SeTime4</th>\n",
       "      <th>SeTime5</th>\n",
       "      <th>SeTime6</th>\n",
       "      <th>SeTime7</th>\n",
       "      <th>SeTime8</th>\n",
       "      <th>SeTime9</th>\n",
       "      <th>SeTime10</th>\n",
       "      <th>SeTime11</th>\n",
       "      <th>SeTime12</th>\n",
       "      <th>SeTime13</th>\n",
       "      <th>SeTime14</th>\n",
       "      <th>DiffSeTime1</th>\n",
       "      <th>DiffSeTime2</th>\n",
       "      <th>DiffSeTime3</th>\n",
       "      <th>DiffSeTime4</th>\n",
       "      <th>DiffSeTime5</th>\n",
       "      <th>DiffSeTime6</th>\n",
       "      <th>DiffSeTime7</th>\n",
       "      <th>DiffSeTime8</th>\n",
       "      <th>DiffSeTime9</th>\n",
       "      <th>DiffSeTime10</th>\n",
       "      <th>DiffSeTime11</th>\n",
       "      <th>DiffSeTime12</th>\n",
       "      <th>DiffSeTime13</th>\n",
       "      <th>DiffSeTime14</th>\n",
       "      <th>Alpha</th>\n",
       "      <th>Se</th>\n",
       "      <th>Goal</th>\n",
       "    </tr>\n",
       "  </thead>\n",
       "  <tbody>\n",
       "    <tr>\n",
       "      <th>0</th>\n",
       "      <td>-17</td>\n",
       "      <td>-6</td>\n",
       "      <td>-0.03</td>\n",
       "      <td>0.14</td>\n",
       "      <td>0.59</td>\n",
       "      <td>-0.5</td>\n",
       "      <td>-11</td>\n",
       "      <td>-9</td>\n",
       "      <td>0.015</td>\n",
       "      <td>-0.2</td>\n",
       "      <td>0.019</td>\n",
       "      <td>0.019</td>\n",
       "      <td>0.019</td>\n",
       "      <td>0.020</td>\n",
       "      <td>0.020</td>\n",
       "      <td>0.020</td>\n",
       "      <td>0.020</td>\n",
       "      <td>0.021</td>\n",
       "      <td>0.021</td>\n",
       "      <td>0.021</td>\n",
       "      <td>0.021</td>\n",
       "      <td>0.021</td>\n",
       "      <td>0.021</td>\n",
       "      <td>0.021</td>\n",
       "      <td>0.000</td>\n",
       "      <td>0.0</td>\n",
       "      <td>-0.002</td>\n",
       "      <td>0.0</td>\n",
       "      <td>0.0</td>\n",
       "      <td>0.0</td>\n",
       "      <td>-0.002</td>\n",
       "      <td>0.0</td>\n",
       "      <td>0.000</td>\n",
       "      <td>0.0</td>\n",
       "      <td>0.000</td>\n",
       "      <td>0.0</td>\n",
       "      <td>0.000</td>\n",
       "      <td>0.0</td>\n",
       "      <td>0.6</td>\n",
       "      <td>0.021</td>\n",
       "      <td>-0.0008</td>\n",
       "    </tr>\n",
       "    <tr>\n",
       "      <th>1</th>\n",
       "      <td>-791</td>\n",
       "      <td>15</td>\n",
       "      <td>-0.28</td>\n",
       "      <td>-0.34</td>\n",
       "      <td>1.11</td>\n",
       "      <td>0.9</td>\n",
       "      <td>-10</td>\n",
       "      <td>27</td>\n",
       "      <td>-0.002</td>\n",
       "      <td>4.7</td>\n",
       "      <td>0.013</td>\n",
       "      <td>0.013</td>\n",
       "      <td>0.013</td>\n",
       "      <td>0.013</td>\n",
       "      <td>0.013</td>\n",
       "      <td>0.013</td>\n",
       "      <td>0.013</td>\n",
       "      <td>0.013</td>\n",
       "      <td>0.013</td>\n",
       "      <td>0.013</td>\n",
       "      <td>0.013</td>\n",
       "      <td>0.013</td>\n",
       "      <td>0.013</td>\n",
       "      <td>0.013</td>\n",
       "      <td>0.000</td>\n",
       "      <td>0.0</td>\n",
       "      <td>0.000</td>\n",
       "      <td>0.0</td>\n",
       "      <td>0.0</td>\n",
       "      <td>0.0</td>\n",
       "      <td>0.000</td>\n",
       "      <td>0.0</td>\n",
       "      <td>0.000</td>\n",
       "      <td>0.0</td>\n",
       "      <td>0.000</td>\n",
       "      <td>0.0</td>\n",
       "      <td>0.000</td>\n",
       "      <td>0.0</td>\n",
       "      <td>0.4</td>\n",
       "      <td>0.013</td>\n",
       "      <td>-0.0009</td>\n",
       "    </tr>\n",
       "    <tr>\n",
       "      <th>2</th>\n",
       "      <td>-46</td>\n",
       "      <td>48</td>\n",
       "      <td>-0.42</td>\n",
       "      <td>0.07</td>\n",
       "      <td>0.57</td>\n",
       "      <td>0.6</td>\n",
       "      <td>-5</td>\n",
       "      <td>-8</td>\n",
       "      <td>-0.008</td>\n",
       "      <td>0.0</td>\n",
       "      <td>0.018</td>\n",
       "      <td>0.019</td>\n",
       "      <td>0.019</td>\n",
       "      <td>0.019</td>\n",
       "      <td>0.019</td>\n",
       "      <td>0.019</td>\n",
       "      <td>0.019</td>\n",
       "      <td>0.019</td>\n",
       "      <td>0.019</td>\n",
       "      <td>0.019</td>\n",
       "      <td>0.019</td>\n",
       "      <td>0.019</td>\n",
       "      <td>0.019</td>\n",
       "      <td>0.019</td>\n",
       "      <td>-0.002</td>\n",
       "      <td>0.0</td>\n",
       "      <td>0.000</td>\n",
       "      <td>0.0</td>\n",
       "      <td>0.0</td>\n",
       "      <td>0.0</td>\n",
       "      <td>0.000</td>\n",
       "      <td>0.0</td>\n",
       "      <td>0.000</td>\n",
       "      <td>0.0</td>\n",
       "      <td>0.000</td>\n",
       "      <td>0.0</td>\n",
       "      <td>0.000</td>\n",
       "      <td>0.0</td>\n",
       "      <td>0.5</td>\n",
       "      <td>0.019</td>\n",
       "      <td>-0.0005</td>\n",
       "    </tr>\n",
       "    <tr>\n",
       "      <th>3</th>\n",
       "      <td>496</td>\n",
       "      <td>-5</td>\n",
       "      <td>-0.21</td>\n",
       "      <td>-0.04</td>\n",
       "      <td>0.03</td>\n",
       "      <td>-0.5</td>\n",
       "      <td>-7</td>\n",
       "      <td>6</td>\n",
       "      <td>-0.002</td>\n",
       "      <td>-0.1</td>\n",
       "      <td>0.019</td>\n",
       "      <td>0.019</td>\n",
       "      <td>0.019</td>\n",
       "      <td>0.019</td>\n",
       "      <td>0.019</td>\n",
       "      <td>0.019</td>\n",
       "      <td>0.019</td>\n",
       "      <td>0.019</td>\n",
       "      <td>0.019</td>\n",
       "      <td>0.019</td>\n",
       "      <td>0.019</td>\n",
       "      <td>0.018</td>\n",
       "      <td>0.018</td>\n",
       "      <td>0.017</td>\n",
       "      <td>-0.001</td>\n",
       "      <td>0.0</td>\n",
       "      <td>0.000</td>\n",
       "      <td>0.0</td>\n",
       "      <td>0.0</td>\n",
       "      <td>0.0</td>\n",
       "      <td>0.000</td>\n",
       "      <td>0.0</td>\n",
       "      <td>0.000</td>\n",
       "      <td>0.0</td>\n",
       "      <td>0.001</td>\n",
       "      <td>0.0</td>\n",
       "      <td>0.001</td>\n",
       "      <td>0.0</td>\n",
       "      <td>0.5</td>\n",
       "      <td>0.017</td>\n",
       "      <td>-0.0005</td>\n",
       "    </tr>\n",
       "    <tr>\n",
       "      <th>4</th>\n",
       "      <td>-124</td>\n",
       "      <td>16</td>\n",
       "      <td>-0.02</td>\n",
       "      <td>0.05</td>\n",
       "      <td>0.61</td>\n",
       "      <td>-0.2</td>\n",
       "      <td>-9</td>\n",
       "      <td>-3</td>\n",
       "      <td>0.000</td>\n",
       "      <td>0.0</td>\n",
       "      <td>0.018</td>\n",
       "      <td>0.018</td>\n",
       "      <td>0.018</td>\n",
       "      <td>0.018</td>\n",
       "      <td>0.018</td>\n",
       "      <td>0.018</td>\n",
       "      <td>0.018</td>\n",
       "      <td>0.018</td>\n",
       "      <td>0.018</td>\n",
       "      <td>0.018</td>\n",
       "      <td>0.018</td>\n",
       "      <td>0.018</td>\n",
       "      <td>0.018</td>\n",
       "      <td>0.018</td>\n",
       "      <td>0.000</td>\n",
       "      <td>0.0</td>\n",
       "      <td>0.000</td>\n",
       "      <td>0.0</td>\n",
       "      <td>0.0</td>\n",
       "      <td>0.0</td>\n",
       "      <td>0.000</td>\n",
       "      <td>0.0</td>\n",
       "      <td>0.000</td>\n",
       "      <td>0.0</td>\n",
       "      <td>0.000</td>\n",
       "      <td>0.0</td>\n",
       "      <td>0.000</td>\n",
       "      <td>0.0</td>\n",
       "      <td>0.5</td>\n",
       "      <td>0.018</td>\n",
       "      <td>-0.0006</td>\n",
       "    </tr>\n",
       "    <tr>\n",
       "      <th>...</th>\n",
       "      <td>...</td>\n",
       "      <td>...</td>\n",
       "      <td>...</td>\n",
       "      <td>...</td>\n",
       "      <td>...</td>\n",
       "      <td>...</td>\n",
       "      <td>...</td>\n",
       "      <td>...</td>\n",
       "      <td>...</td>\n",
       "      <td>...</td>\n",
       "      <td>...</td>\n",
       "      <td>...</td>\n",
       "      <td>...</td>\n",
       "      <td>...</td>\n",
       "      <td>...</td>\n",
       "      <td>...</td>\n",
       "      <td>...</td>\n",
       "      <td>...</td>\n",
       "      <td>...</td>\n",
       "      <td>...</td>\n",
       "      <td>...</td>\n",
       "      <td>...</td>\n",
       "      <td>...</td>\n",
       "      <td>...</td>\n",
       "      <td>...</td>\n",
       "      <td>...</td>\n",
       "      <td>...</td>\n",
       "      <td>...</td>\n",
       "      <td>...</td>\n",
       "      <td>...</td>\n",
       "      <td>...</td>\n",
       "      <td>...</td>\n",
       "      <td>...</td>\n",
       "      <td>...</td>\n",
       "      <td>...</td>\n",
       "      <td>...</td>\n",
       "      <td>...</td>\n",
       "      <td>...</td>\n",
       "      <td>...</td>\n",
       "      <td>...</td>\n",
       "      <td>...</td>\n",
       "    </tr>\n",
       "    <tr>\n",
       "      <th>13745</th>\n",
       "      <td>-53</td>\n",
       "      <td>-13</td>\n",
       "      <td>-0.07</td>\n",
       "      <td>0.02</td>\n",
       "      <td>0.58</td>\n",
       "      <td>-2.3</td>\n",
       "      <td>-15</td>\n",
       "      <td>12</td>\n",
       "      <td>0.022</td>\n",
       "      <td>-0.8</td>\n",
       "      <td>0.019</td>\n",
       "      <td>0.019</td>\n",
       "      <td>0.019</td>\n",
       "      <td>0.019</td>\n",
       "      <td>0.019</td>\n",
       "      <td>0.019</td>\n",
       "      <td>0.019</td>\n",
       "      <td>0.019</td>\n",
       "      <td>0.019</td>\n",
       "      <td>0.019</td>\n",
       "      <td>0.019</td>\n",
       "      <td>0.019</td>\n",
       "      <td>0.019</td>\n",
       "      <td>0.019</td>\n",
       "      <td>0.000</td>\n",
       "      <td>0.0</td>\n",
       "      <td>0.000</td>\n",
       "      <td>0.0</td>\n",
       "      <td>0.0</td>\n",
       "      <td>0.0</td>\n",
       "      <td>0.000</td>\n",
       "      <td>0.0</td>\n",
       "      <td>0.000</td>\n",
       "      <td>0.0</td>\n",
       "      <td>0.000</td>\n",
       "      <td>0.0</td>\n",
       "      <td>-0.001</td>\n",
       "      <td>0.0</td>\n",
       "      <td>0.5</td>\n",
       "      <td>0.019</td>\n",
       "      <td>-0.0007</td>\n",
       "    </tr>\n",
       "    <tr>\n",
       "      <th>13746</th>\n",
       "      <td>1</td>\n",
       "      <td>4</td>\n",
       "      <td>-0.11</td>\n",
       "      <td>-0.07</td>\n",
       "      <td>0.47</td>\n",
       "      <td>0.8</td>\n",
       "      <td>-5</td>\n",
       "      <td>8</td>\n",
       "      <td>-0.003</td>\n",
       "      <td>-0.2</td>\n",
       "      <td>0.016</td>\n",
       "      <td>0.016</td>\n",
       "      <td>0.016</td>\n",
       "      <td>0.016</td>\n",
       "      <td>0.016</td>\n",
       "      <td>0.016</td>\n",
       "      <td>0.016</td>\n",
       "      <td>0.016</td>\n",
       "      <td>0.016</td>\n",
       "      <td>0.016</td>\n",
       "      <td>0.016</td>\n",
       "      <td>0.016</td>\n",
       "      <td>0.016</td>\n",
       "      <td>0.016</td>\n",
       "      <td>0.000</td>\n",
       "      <td>0.0</td>\n",
       "      <td>0.000</td>\n",
       "      <td>0.0</td>\n",
       "      <td>0.0</td>\n",
       "      <td>0.0</td>\n",
       "      <td>0.000</td>\n",
       "      <td>0.0</td>\n",
       "      <td>0.000</td>\n",
       "      <td>0.0</td>\n",
       "      <td>0.000</td>\n",
       "      <td>0.0</td>\n",
       "      <td>0.000</td>\n",
       "      <td>0.0</td>\n",
       "      <td>0.5</td>\n",
       "      <td>0.016</td>\n",
       "      <td>-0.0004</td>\n",
       "    </tr>\n",
       "    <tr>\n",
       "      <th>13747</th>\n",
       "      <td>425</td>\n",
       "      <td>-14</td>\n",
       "      <td>0.40</td>\n",
       "      <td>0.07</td>\n",
       "      <td>0.41</td>\n",
       "      <td>-2.1</td>\n",
       "      <td>-16</td>\n",
       "      <td>12</td>\n",
       "      <td>0.031</td>\n",
       "      <td>-0.7</td>\n",
       "      <td>0.035</td>\n",
       "      <td>0.035</td>\n",
       "      <td>0.035</td>\n",
       "      <td>0.035</td>\n",
       "      <td>0.035</td>\n",
       "      <td>0.035</td>\n",
       "      <td>0.035</td>\n",
       "      <td>0.035</td>\n",
       "      <td>0.035</td>\n",
       "      <td>0.034</td>\n",
       "      <td>0.034</td>\n",
       "      <td>0.034</td>\n",
       "      <td>0.034</td>\n",
       "      <td>0.032</td>\n",
       "      <td>0.000</td>\n",
       "      <td>0.0</td>\n",
       "      <td>0.000</td>\n",
       "      <td>0.0</td>\n",
       "      <td>0.0</td>\n",
       "      <td>0.0</td>\n",
       "      <td>0.000</td>\n",
       "      <td>0.0</td>\n",
       "      <td>0.001</td>\n",
       "      <td>0.0</td>\n",
       "      <td>0.000</td>\n",
       "      <td>0.0</td>\n",
       "      <td>0.001</td>\n",
       "      <td>0.0</td>\n",
       "      <td>0.9</td>\n",
       "      <td>0.032</td>\n",
       "      <td>-0.0015</td>\n",
       "    </tr>\n",
       "    <tr>\n",
       "      <th>13748</th>\n",
       "      <td>102</td>\n",
       "      <td>-10</td>\n",
       "      <td>-0.19</td>\n",
       "      <td>0.08</td>\n",
       "      <td>1.30</td>\n",
       "      <td>0.5</td>\n",
       "      <td>-10</td>\n",
       "      <td>-3</td>\n",
       "      <td>-0.003</td>\n",
       "      <td>-0.2</td>\n",
       "      <td>0.051</td>\n",
       "      <td>0.051</td>\n",
       "      <td>0.051</td>\n",
       "      <td>0.051</td>\n",
       "      <td>0.051</td>\n",
       "      <td>0.051</td>\n",
       "      <td>0.051</td>\n",
       "      <td>0.051</td>\n",
       "      <td>0.051</td>\n",
       "      <td>0.051</td>\n",
       "      <td>0.051</td>\n",
       "      <td>0.051</td>\n",
       "      <td>0.051</td>\n",
       "      <td>0.051</td>\n",
       "      <td>0.000</td>\n",
       "      <td>0.0</td>\n",
       "      <td>0.000</td>\n",
       "      <td>0.0</td>\n",
       "      <td>0.0</td>\n",
       "      <td>0.0</td>\n",
       "      <td>0.000</td>\n",
       "      <td>0.0</td>\n",
       "      <td>0.000</td>\n",
       "      <td>0.0</td>\n",
       "      <td>0.000</td>\n",
       "      <td>0.0</td>\n",
       "      <td>0.000</td>\n",
       "      <td>0.0</td>\n",
       "      <td>1.4</td>\n",
       "      <td>0.051</td>\n",
       "      <td>-0.0015</td>\n",
       "    </tr>\n",
       "    <tr>\n",
       "      <th>13749</th>\n",
       "      <td>-165</td>\n",
       "      <td>52</td>\n",
       "      <td>0.08</td>\n",
       "      <td>0.42</td>\n",
       "      <td>1.07</td>\n",
       "      <td>-1.6</td>\n",
       "      <td>-22</td>\n",
       "      <td>-15</td>\n",
       "      <td>0.007</td>\n",
       "      <td>0.0</td>\n",
       "      <td>0.033</td>\n",
       "      <td>0.034</td>\n",
       "      <td>0.034</td>\n",
       "      <td>0.034</td>\n",
       "      <td>0.034</td>\n",
       "      <td>0.034</td>\n",
       "      <td>0.034</td>\n",
       "      <td>0.034</td>\n",
       "      <td>0.034</td>\n",
       "      <td>0.034</td>\n",
       "      <td>0.034</td>\n",
       "      <td>0.034</td>\n",
       "      <td>0.034</td>\n",
       "      <td>0.034</td>\n",
       "      <td>-0.002</td>\n",
       "      <td>0.0</td>\n",
       "      <td>0.000</td>\n",
       "      <td>0.0</td>\n",
       "      <td>0.0</td>\n",
       "      <td>0.0</td>\n",
       "      <td>0.000</td>\n",
       "      <td>0.0</td>\n",
       "      <td>0.000</td>\n",
       "      <td>0.0</td>\n",
       "      <td>0.000</td>\n",
       "      <td>0.0</td>\n",
       "      <td>0.000</td>\n",
       "      <td>0.0</td>\n",
       "      <td>0.9</td>\n",
       "      <td>0.034</td>\n",
       "      <td>-0.0018</td>\n",
       "    </tr>\n",
       "  </tbody>\n",
       "</table>\n",
       "<p>13750 rows × 41 columns</p>\n",
       "</div>"
      ],
      "text/plain": [
       "       inputs ClimbRate  Sgz     P     Q  ...  DiffSeTime14  Alpha     Se    Goal\n",
       "0                   -17   -6 -0.03  0.14  ...           0.0    0.6  0.021 -0.0008\n",
       "1                  -791   15 -0.28 -0.34  ...           0.0    0.4  0.013 -0.0009\n",
       "2                   -46   48 -0.42  0.07  ...           0.0    0.5  0.019 -0.0005\n",
       "3                   496   -5 -0.21 -0.04  ...           0.0    0.5  0.017 -0.0005\n",
       "4                  -124   16 -0.02  0.05  ...           0.0    0.5  0.018 -0.0006\n",
       "...                 ...  ...   ...   ...  ...           ...    ...    ...     ...\n",
       "13745               -53  -13 -0.07  0.02  ...           0.0    0.5  0.019 -0.0007\n",
       "13746                 1    4 -0.11 -0.07  ...           0.0    0.5  0.016 -0.0004\n",
       "13747               425  -14  0.40  0.07  ...           0.0    0.9  0.032 -0.0015\n",
       "13748               102  -10 -0.19  0.08  ...           0.0    1.4  0.051 -0.0015\n",
       "13749              -165   52  0.08  0.42  ...           0.0    0.9  0.034 -0.0018\n",
       "\n",
       "[13750 rows x 41 columns]"
      ]
     },
     "execution_count": 2,
     "metadata": {
      "tags": []
     },
     "output_type": "execute_result"
    }
   ],
   "source": [
    "# 1. Print the dataframe.\n",
    "df"
   ]
  },
  {
   "cell_type": "code",
   "execution_count": 3,
   "metadata": {
    "executionInfo": {
     "elapsed": 1508,
     "status": "ok",
     "timestamp": 1606677756373,
     "user": {
      "displayName": "Fan Zhu",
      "photoUrl": "",
      "userId": "13386576356368939467"
     },
     "user_tz": 300
    },
    "id": "BreRrJLPuMAV"
   },
   "outputs": [],
   "source": [
    "# 2. Prepare your dataset as follows: \n",
    "import pandas as pd\n",
    "import numpy as np\n",
    "\n",
    "# Split the dataset into training and validation sets (80% training, 20% validation). \n",
    "# When splitting, set `random_state=1`.\n",
    "from sklearn.model_selection import train_test_split\n",
    "feature_data = df.iloc[:,0:40]\n",
    "target_data = df['Goal']\n",
    "X_train, X_test, y_train, y_test = train_test_split(feature_data, target_data, test_size=0.2, random_state=1)\n",
    "\n",
    "# Standardize the data using StandardScaler from sklearn.\n",
    "from sklearn.preprocessing import StandardScaler\n",
    "scalar = StandardScaler().fit(X_train)\n",
    "X_train=pd.DataFrame(scalar.transform(X_train))\n",
    "# col_name = feature_data.columns\n",
    "# X_train.columns = col_name\n",
    "\n",
    "X_test=pd.DataFrame(scalar.transform(X_test))\n",
    "# X_test.columns = col_name\n",
    "\n",
    "# Insert a first column of 1s in both the training and validation data sets.\n",
    "X_train.insert(loc=0, column='', value=np.ones(X_train.shape[0]))\n",
    "X_test.insert(loc=0, column='', value=np.ones(X_test.shape[0]))\n"
   ]
  },
  {
   "cell_type": "markdown",
   "metadata": {
    "id": "EQ6KBnbpbcuE"
   },
   "source": [
    "## Part 2 - Linear Regression - Direct Solution  "
   ]
  },
  {
   "cell_type": "markdown",
   "metadata": {
    "id": "qh9g1ead3NG-"
   },
   "source": [
    "Implement the direct solution to linear regression on the training set. \n",
    "\n",
    "Report the root-mean-square error (RMSE) for both the training and validation sets. "
   ]
  },
  {
   "cell_type": "code",
   "execution_count": 4,
   "metadata": {
    "executionInfo": {
     "elapsed": 1498,
     "status": "ok",
     "timestamp": 1606677756374,
     "user": {
      "displayName": "Fan Zhu",
      "photoUrl": "",
      "userId": "13386576356368939467"
     },
     "user_tz": 300
    },
    "id": "FzLJgLvy5Re4"
   },
   "outputs": [],
   "source": [
    "# Implement the direct solution to linear regression on the training set. [1]\n",
    "from sklearn.linear_model import LinearRegression\n",
    "from scipy.linalg import inv \n",
    "\n",
    "W = np.dot(inv(np.dot(X_train.T, X_train)), np.dot(X_train.T, y_train))\n",
    " "
   ]
  },
  {
   "cell_type": "code",
   "execution_count": 5,
   "metadata": {
    "colab": {
     "base_uri": "https://localhost:8080/"
    },
    "executionInfo": {
     "elapsed": 1489,
     "status": "ok",
     "timestamp": 1606677756376,
     "user": {
      "displayName": "Fan Zhu",
      "photoUrl": "",
      "userId": "13386576356368939467"
     },
     "user_tz": 300
    },
    "id": "rLFi7SVGCpLU",
    "outputId": "71c1a146-4321-4f50-977c-3c4e519389d1"
   },
   "outputs": [
    {
     "name": "stdout",
     "output_type": "stream",
     "text": [
      "RMSE for training :  0.0001983241902503662\n",
      "RMSE for validation:  0.0001874084898605524\n"
     ]
    }
   ],
   "source": [
    "# Report the root-mean-square error (RMSE) for both the training and validation sets.[1]\n",
    "from sklearn.metrics import mean_squared_error\n",
    "\n",
    "def rmse(yPred, y):\n",
    "    return np.sqrt(mean_squared_error(yPred, y))\n",
    "\n",
    "RMSE_training = rmse(np.dot(X_train, W), y_train)\n",
    "RMSE_validation = rmse(np.dot(X_test, W), y_test)\n",
    "\n",
    "print('RMSE for training : ', RMSE_training)\n",
    "print('RMSE for validation: ', RMSE_validation)\n"
   ]
  },
  {
   "cell_type": "markdown",
   "metadata": {
    "id": "tceGCk1V3NG_"
   },
   "source": [
    "## Part 3 - Full Batch Gradient Descent "
   ]
  },
  {
   "cell_type": "markdown",
   "metadata": {
    "id": "v9DMAs3I3NHB"
   },
   "source": [
    "We will now implement a full batch gradient descent algorithm and record the training time for our model.\n",
    "\n",
    "1. Implement gradient descent for linear regression using a fixed learning rate of $\\alpha= 1e-2$, and by iterating until your model's validation RMSE converges. Here we will consider it converged once validation RMSE is within 0.1% of the Direct Solution RMSE (i.e., $RMSE_{GD} <= RMSE_{Direct Solution}*1.001$). We call this value **Convergence threshold ($CT = RMSE_{Direct Solution}*1.001$)** and will use this value in the next parts too.\n",
    "\n",
    "  *  Record the training time (from the first iteration until convergence) using the `time.time()` function. Be sure to compute the gradients yourself! Take a look at the code provided in the tutorial. \n",
    "\n",
    "  * Plot the Training RMSE and the Validation RMSE vs epoch on the same figure. Epoch is the number of passes on the full training set - for full batch gradient descent, it's the same as the # of gradient updates (iterations). \n",
    "\n",
    "2. Comment on overfitting/underfitting - is running the algorithm too long a concern here?  "
   ]
  },
  {
   "cell_type": "code",
   "execution_count": 6,
   "metadata": {
    "executionInfo": {
     "elapsed": 1480,
     "status": "ok",
     "timestamp": 1606677756379,
     "user": {
      "displayName": "Fan Zhu",
      "photoUrl": "",
      "userId": "13386576356368939467"
     },
     "user_tz": 300
    },
    "id": "Wrm2NYUVa0gi"
   },
   "outputs": [],
   "source": [
    "# 1. Implement gradient descent for linear regression, and by iterating until your model's validation RMSE converges.\n",
    "lr = 10**(-2)\n",
    "threshold = RMSE_validation * 1.001\n",
    "\n",
    "# reshape y_train\n",
    "y_train = np.array(y_train).reshape(-1,1)\n",
    "y_test = np.array(y_test).reshape(-1,1)\n",
    "\n",
    "# np.random.seed(1090)\n",
    "w = (np.random.random(W.shape[0])).reshape(1,-1)\n",
    "w = w/10000\n",
    "\n",
    "rmse_training=[]\n",
    "rmse_validation=[]"
   ]
  },
  {
   "cell_type": "code",
   "execution_count": 7,
   "metadata": {
    "colab": {
     "base_uri": "https://localhost:8080/"
    },
    "executionInfo": {
     "elapsed": 2138,
     "status": "ok",
     "timestamp": 1606677757053,
     "user": {
      "displayName": "Fan Zhu",
      "photoUrl": "",
      "userId": "13386576356368939467"
     },
     "user_tz": 300
    },
    "id": "G3KOOJ8m5SAs",
    "outputId": "183361c7-2972-4f82-d5a4-b5a9153753cf"
   },
   "outputs": [
    {
     "name": "stdout",
     "output_type": "stream",
     "text": [
      "--- Total Training Time: 0.6552753448486328 (s) ---\n"
     ]
    }
   ],
   "source": [
    "# Record the training time (from the first iteration until convergence) using the time.time() function.  \n",
    "\n",
    "import time\n",
    "start_time = time.time() ## Records current time\n",
    "\n",
    "for epoch in range (0, 3000): \n",
    "    # training\n",
    "    y_train_pred= np.dot(X_train,w.T)\n",
    "    train_rmse= rmse(y_train_pred,y_train)\n",
    " \n",
    "    # testing \n",
    "    y_test_pred= np.dot(X_test,w.T)\n",
    "    test_rmse = rmse(y_test_pred,y_test)\n",
    "    if test_rmse <= threshold:\n",
    "      break\n",
    "      \n",
    "    else:\n",
    "      rmse_training.append(train_rmse)\n",
    "      rmse_validation.append(test_rmse)\n",
    "      gradient = (1/len(y_train_pred) * np.dot(X_train.T, y_train_pred-y_train)).reshape(1,-1)\n",
    "      w = w - lr * gradient ### weight update\n",
    "\n",
    "print(\"--- Total Training Time: %s (s) ---\" % (time.time() - start_time))"
   ]
  },
  {
   "cell_type": "code",
   "execution_count": 8,
   "metadata": {
    "colab": {
     "base_uri": "https://localhost:8080/",
     "height": 279
    },
    "executionInfo": {
     "elapsed": 3058,
     "status": "ok",
     "timestamp": 1606677757997,
     "user": {
      "displayName": "Fan Zhu",
      "photoUrl": "",
      "userId": "13386576356368939467"
     },
     "user_tz": 300
    },
    "id": "wWPsbViPPr34",
    "outputId": "a776b022-2f04-4a5e-d943-3f0da2eb6c95"
   },
   "outputs": [
    {
     "data": {
      "image/png": "[encoded data removed]",
      "text/plain": [
       "<Figure size 432x288 with 1 Axes>"
      ]
     },
     "metadata": {
      "needs_background": "light",
      "tags": []
     },
     "output_type": "display_data"
    }
   ],
   "source": [
    "# Plot the Training RMSE and the Validation RMSE vs epoch on the same figure. Epoch is the number of passes on the full training set\n",
    "\n",
    "import matplotlib.pyplot as plt\n",
    "import math\n",
    " \n",
    "# np.random.seed(1090)\n",
    "w = (np.random.random(W.shape[0])).reshape(1,-1)\n",
    "w = w/10000\n",
    "\n",
    "rmse_training=[]\n",
    "rmse_validation=[]\n",
    "\n",
    "for epoch in range (0, 3000): \n",
    "\n",
    "    # training\n",
    "    y= np.dot(X_train,w.T)\n",
    "    gradient = (1/len(y) * np.dot(X_train.T, y-y_train)).reshape(1,-1)\n",
    "    w = w - lr * gradient ### weight update\n",
    "\n",
    "    # testing \n",
    "    y_pred= np.dot(X_test,w.T)\n",
    "    validation_rmse = rmse(y_pred,y_test)\n",
    "    rmse_training.append(rmse(np.dot(X_train,w.T),y_train))\n",
    "    rmse_validation.append(validation_rmse)\n",
    "\n",
    "    if validation_rmse <= threshold:\n",
    "      break\n",
    " \n",
    "plt.plot(rmse_training,label='training')\n",
    "plt.plot(rmse_validation,label='validation')\n",
    "plt.xlabel(\"Epoch\")\n",
    "plt.ylabel(\"RMSE\")\n",
    "plt.legend()\n",
    "plt.show()"
   ]
  },
  {
   "cell_type": "code",
   "execution_count": 9,
   "metadata": {
    "executionInfo": {
     "elapsed": 3049,
     "status": "ok",
     "timestamp": 1606677758004,
     "user": {
      "displayName": "Fan Zhu",
      "photoUrl": "",
      "userId": "13386576356368939467"
     },
     "user_tz": 300
    },
    "id": "CuSObVGVnfC-"
   },
   "outputs": [],
   "source": [
    "# 2. Comment on overfitting/underfitting - is running the algorithm too long a concern here? \n",
    "\n",
    "# Overfitting happens when the model is too complex, would have low training error but high testing error. And underfitting happens when \n",
    "# the model is too simple, would have high training error and high testing error. Our model seems fine since both the training and testing \n",
    "# errors are very small.\n",
    "\n",
    "# In general, full bach GD performs well and will converge, but it's computationally expensive, \n",
    "# and will take a long time to converge especially when the starting weight is large. To avoid\n",
    "# this situation happens, decrease the initial weight by using w divided by 10000. "
   ]
  },
  {
   "cell_type": "markdown",
   "metadata": {
    "id": "K3xwmhsr3NHS"
   },
   "source": [
    "## Part 4 - Mini-batch and Stochastic Gradient Descent"
   ]
  },
  {
   "cell_type": "markdown",
   "metadata": {
    "id": "rbItQ_C5Af_-"
   },
   "source": [
    "Write a function that performs mini-batch gradient descent until the convergence threshold (CT) is reached. \n",
    "The inputs of that function are \n",
    "  * Training Data\n",
    "  * Validation Data\n",
    "  * Batch size\n",
    "  * Learning Rate\n",
    "  * Convergence Threshold (CT)\n",
    "  * Maximum Iterations = 20000\n",
    "\n",
    "Your function will return the following arrays: \n",
    " * The final weights after training.\n",
    " * The training RMSE at each epoch (the number of epochs is the number of passes on the full data set).\n",
    " * The validation RMSE at each epoch.\n",
    " * An array that has the elapsed time from the start of the training process to the end of each epoch (e.g., if each epoch takes exactly 2 seconds the array would look like: [2 4 6 8 ...]).\n",
    " * For certain batchsizes GD might not converge to a solution. For that reason we have a parameter \"Maximum iterations\" where we limit the total number of iterations that this function can perform. \n",
    "\n",
    "Let's now use the function to investigate the effect of batch size on convergence. When the batch size is 1, we call that stochastic gradient descent. When the batch size equals the # of training data, it is full-batch (ie all data points are used at every iteration). Anywhere in between is mini-batch (we use some of the data).\n",
    "  * Sweep different values for the mini-batch size (at least 10 values, including 1 -- Stochastic GD), each time using a learning rate of $\\alpha= 1e-2$. **Hint: Try batch sizes that are powers of two (e.g., 2,4,8,16,32,...).** These batchsizes fit better on the hardware and may achieve higher performance.   \n",
    "  * Plot training and validation RMSE vs. **epoch** for all the batchsizes in a figure. The X-axis is Epoch # and the Y-axis is RMSE.  \n",
    "  * Plot training and validation RMSE vs. **time** for all the batchsizes in a figure. The X-axis is Time and the Y-axis is RMSE.  \n",
    "  * Plot Total training time (y-axis) vs. Batch size (x-axis).  \n",
    "  * Describe your findings, including the main takeawyas from each of your plots.  "
   ]
  },
  {
   "cell_type": "code",
   "execution_count": 10,
   "metadata": {
    "executionInfo": {
     "elapsed": 3042,
     "status": "ok",
     "timestamp": 1606677758005,
     "user": {
      "displayName": "Fan Zhu",
      "photoUrl": "",
      "userId": "13386576356368939467"
     },
     "user_tz": 300
    },
    "id": "jGQ4_OPkleDq"
   },
   "outputs": [],
   "source": [
    "# Write a function that performs mini-batch gradient descent until the convergence threshold (CT) is reached.\n",
    " \n",
    "y_train= pd.DataFrame(y_train)\n",
    "y_test= pd.DataFrame(y_test)\n",
    "\n",
    "def mini_batch (X_train, y_train, X_test, y_test, batch_size, lr, CT, max_interation):\n",
    " \n",
    "  rmse_training=[]\n",
    "  rmse_validation=[]\n",
    "\n",
    "  # initial weight \n",
    "  np.random.seed(1090)\n",
    "  w = (np.random.random(W.shape[0])).reshape(1,-1)\n",
    "  w = w/10000\n",
    "  \n",
    "  interation = 0\n",
    "\n",
    "  time_array=[]\n",
    "  elapsed_time=0\n",
    "\n",
    "  for epoch in range (0, 300): \n",
    "    start_time = time.time()\n",
    "\n",
    "    a = 0\n",
    "    b = batch_size * 1\n",
    "\n",
    "    # mini batch iteration, update the weights through each interaction \n",
    "    for iteration in range(math.ceil(X_train.shape[0]/batch_size)-1):\n",
    "        y= np.dot(X_train[a:b],w.T)\n",
    "        gradient = (1/len(y) * np.dot(X_train[a:b].T, y-y_train[a:b])).reshape(1,-1)\n",
    "        w = w - lr * gradient \n",
    "        interation = interation + 1\n",
    "        a = a + batch_size\n",
    "        b = b + batch_size\n",
    "        if b > X_train.shape[0]:\n",
    "          b = X_train.shape[0]   \n",
    "\n",
    "    # The validation RMSE at each epoch.\n",
    "    y_val_pred = np.dot(X_test,w.T)\n",
    "    validation_rmse = rmse(y_val_pred,y_test)\n",
    "    rmse_validation.append(validation_rmse)\n",
    "    \n",
    "    # The training RMSE at each epoch\n",
    "    y_train_pred = np.dot(X_train,w.T)\n",
    "    train_rmse = rmse(y_train_pred,y_train)\n",
    "    rmse_training.append(train_rmse)\n",
    "    \n",
    "    elapsed_time = elapsed_time + time.time() - start_time\n",
    "    time_array.append(elapsed_time)\n",
    "\n",
    "    if validation_rmse <= threshold:\n",
    "      # print('converge at', epoch+1, ' epoch')\n",
    "      break \n",
    "\n",
    "    if interation > max_interation:\n",
    "      print('batch_size=', batch_size,', exceed the total number of iterations')\n",
    "      break\n",
    "\n",
    "  return w, rmse_validation, rmse_training, time_array\n"
   ]
  },
  {
   "cell_type": "code",
   "execution_count": 11,
   "metadata": {
    "colab": {
     "base_uri": "https://localhost:8080/"
    },
    "executionInfo": {
     "elapsed": 56334,
     "status": "ok",
     "timestamp": 1606677811308,
     "user": {
      "displayName": "Fan Zhu",
      "photoUrl": "",
      "userId": "13386576356368939467"
     },
     "user_tz": 300
    },
    "id": "cvdDLD0BZxpn",
    "outputId": "6df9af4c-bf70-4a86-9c4c-3bdc97caf589"
   },
   "outputs": [
    {
     "name": "stdout",
     "output_type": "stream",
     "text": [
      "batch_size= 1 , exceed the total number of iterations\n",
      "batch_size= 16 , exceed the total number of iterations\n",
      "batch_size= 32 , exceed the total number of iterations\n"
     ]
    }
   ],
   "source": [
    "# Let's now use the function to investigate the effect of batch size on convergence. \n",
    "# Sweep different values for the mini-batch size Stochastic GD), Hint: Try batch sizes that are powers of two \n",
    "\n",
    "try1 = mini_batch (X_train, y_train, X_test, y_test, 1, lr, threshold, 20000)\n",
    "try2 = mini_batch (X_train, y_train, X_test, y_test, 16, lr, threshold, 20000)\n",
    "try3 = mini_batch (X_train, y_train, X_test, y_test, 32, lr, threshold, 20000)\n",
    " \n",
    "# Discover that small batch size < 64 might not converge within maximum number of iterations.  \n",
    "# Especially for stochastic GD (batch size =1), the result is not reliable since GD not always updates the weight in right directions."
   ]
  },
  {
   "cell_type": "code",
   "execution_count": 12,
   "metadata": {
    "colab": {
     "base_uri": "https://localhost:8080/",
     "height": 573
    },
    "executionInfo": {
     "elapsed": 67733,
     "status": "ok",
     "timestamp": 1606677822732,
     "user": {
      "displayName": "Fan Zhu",
      "photoUrl": "",
      "userId": "13386576356368939467"
     },
     "user_tz": 300
    },
    "id": "cEHdEzhNvCY5",
    "outputId": "46d04317-a6c2-4ffd-c16b-cb61f3606bed"
   },
   "outputs": [
    {
     "data": {
      "image/png": "[encoded data removed]",
      "text/plain": [
       "<Figure size 432x288 with 1 Axes>"
      ]
     },
     "metadata": {
      "needs_background": "light",
      "tags": []
     },
     "output_type": "display_data"
    },
    {
     "data": {
      "image/png": "[encoded data removed]",
      "text/plain": [
       "<Figure size 432x288 with 1 Axes>"
      ]
     },
     "metadata": {
      "needs_background": "light",
      "tags": []
     },
     "output_type": "display_data"
    }
   ],
   "source": [
    "# Plot training and validation RMSE vs. epoch for all the batchsizes in a figure. The X-axis is Epoch and the Y-axis is RMSE.  \n",
    "batch_size_array = [64,128,256,512,1024,2048,4096]\n",
    "# np.random.seed(1090)\n",
    "\n",
    "# Training RMSE vs. Epoch\n",
    "plt.figure()\n",
    "for i in batch_size_array:\n",
    "  output= mini_batch (X_train, y_train, X_test, y_test, i, lr, threshold, 20000)\n",
    "  rmse_training = output[2]\n",
    "  plt.plot(rmse_training,label='batch_size =' + str(i))\n",
    "plt.title('Training RMSE vs. Epoch')\n",
    "plt.xlabel(\"Epoch #\")\n",
    "plt.ylabel(\"Training RMSE\")\n",
    "plt.legend()\n",
    "\n",
    "# Validation RMSE vs. Epoch\n",
    "plt.figure()\n",
    "for i in batch_size_array:\n",
    "  output= mini_batch (X_train, y_train, X_test, y_test, i, lr, threshold, 20000)\n",
    "  rmse_validation= output[1]\n",
    "  plt.plot(rmse_validation,label='batch_size =' + str(i))\n",
    "plt.title('Validation RMSE vs. Epoch')\n",
    "plt.xlabel(\"Epoch #\")\n",
    "plt.ylabel(\"Validation RMSE\")\n",
    "plt.legend()\n",
    "\n",
    "plt.show()\n",
    " \n",
    "# Describe findings the last part of this question "
   ]
  },
  {
   "cell_type": "code",
   "execution_count": 13,
   "metadata": {
    "colab": {
     "base_uri": "https://localhost:8080/",
     "height": 573
    },
    "executionInfo": {
     "elapsed": 79147,
     "status": "ok",
     "timestamp": 1606677834174,
     "user": {
      "displayName": "Fan Zhu",
      "photoUrl": "",
      "userId": "13386576356368939467"
     },
     "user_tz": 300
    },
    "id": "1SkiuWEVy-fG",
    "outputId": "ec62b93f-8a59-41c9-f3c1-dd122fd5934c"
   },
   "outputs": [
    {
     "data": {
      "image/png": "[encoded data removed]",
      "text/plain": [
       "<Figure size 432x288 with 1 Axes>"
      ]
     },
     "metadata": {
      "needs_background": "light",
      "tags": []
     },
     "output_type": "display_data"
    },
    {
     "data": {
      "image/png": "[encoded data removed]",
      "text/plain": [
       "<Figure size 432x288 with 1 Axes>"
      ]
     },
     "metadata": {
      "needs_background": "light",
      "tags": []
     },
     "output_type": "display_data"
    }
   ],
   "source": [
    "# Plot training and validation RMSE vs. time for all the batchsizes in a figure. The X-axis is Time and the Y-axis is RMSE. \n",
    "# np.random.seed(1090)\n",
    "\n",
    "# Training RMSE vs. Time\n",
    "plt.figure()\n",
    "for i in batch_size_array:\n",
    "  output= mini_batch (X_train, y_train, X_test, y_test, i, lr, threshold, 20000)\n",
    "  time_array= output[3]\n",
    "  rmse_training= output[2]\n",
    "  plt.plot(time_array,rmse_training,label='batch_size ='+ str(i))\n",
    "\n",
    "plt.title('Training RMSE vs. Time')\n",
    "plt.xlabel(\"Time\")\n",
    "plt.ylabel(\"Training RMSE\")\n",
    "plt.legend()\n",
    "\n",
    "# Validation RMSE vs. time\n",
    "plt.figure()\n",
    "for i in batch_size_array:\n",
    "  output= mini_batch (X_train, y_train, X_test, y_test, i, lr, threshold, 20000)\n",
    "  time_array= output[3]\n",
    "  rmse_validation= output[1]\n",
    "  plt.plot(time_array,rmse_validation,label='batch_size ='+ str(i))\n",
    "plt.title('Validation RMSE vs. time')\n",
    "plt.xlabel(\"Time\")\n",
    "plt.ylabel(\"Validation RMSE\")\n",
    "plt.legend()\n",
    "\n",
    "plt.show()\n",
    "\n",
    "# Describe findings the last part of this question \n"
   ]
  },
  {
   "cell_type": "code",
   "execution_count": 14,
   "metadata": {
    "colab": {
     "base_uri": "https://localhost:8080/",
     "height": 295
    },
    "executionInfo": {
     "elapsed": 84746,
     "status": "ok",
     "timestamp": 1606677839793,
     "user": {
      "displayName": "Fan Zhu",
      "photoUrl": "",
      "userId": "13386576356368939467"
     },
     "user_tz": 300
    },
    "id": "vd98cxW22DC4",
    "outputId": "7a1a7148-1fa8-47be-a15d-00d724137fbe"
   },
   "outputs": [
    {
     "data": {
      "image/png": "[encoded data removed]",
      "text/plain": [
       "<Figure size 432x288 with 1 Axes>"
      ]
     },
     "metadata": {
      "needs_background": "light",
      "tags": []
     },
     "output_type": "display_data"
    }
   ],
   "source": [
    "# Plot Total training time (y-axis) vs. Batch size (x-axis).\n",
    "# np.random.seed(1090)\n",
    "total_time = []\n",
    "\n",
    "plt.figure()\n",
    "for i in batch_size_array:\n",
    "  output= mini_batch (X_train, y_train, X_test, y_test, i, lr, threshold, 20000)\n",
    "  total_time.append(output[3][-1])\n",
    "   \n",
    "plt.plot(batch_size_array,total_time)\n",
    "plt.title('Total training time vs. Batch size')\n",
    "plt.xlabel(\"Batch size\")\n",
    "plt.ylabel(\"Total training time\")\n",
    "plt.show()\n",
    "\n",
    "# Describe findings the last part of this question "
   ]
  },
  {
   "cell_type": "code",
   "execution_count": 15,
   "metadata": {
    "executionInfo": {
     "elapsed": 84733,
     "status": "ok",
     "timestamp": 1606677839797,
     "user": {
      "displayName": "Fan Zhu",
      "photoUrl": "",
      "userId": "13386576356368939467"
     },
     "user_tz": 300
    },
    "id": "tlgWYYvqjAEV"
   },
   "outputs": [],
   "source": [
    "# Describe your findings, including the main takeawyas from each of your plots. \n",
    "\n",
    "# For this part, batch sizes <64 might not converge at the end. GD not always update weight in the right dictions when\n",
    "#     the batch size for training is small. Setting some limit to avoid computational cost. The function would break after \n",
    "#     interations reach the iteration limit of 20000.\n",
    "\n",
    "# From the plot of training and validation RMSE vs. epoch: could see it takes more epoch to converge larger batchsizes.\n",
    "#      Larger batchsizes performs well but would use too many memory and computational time. \n",
    "\n",
    "# From the plot of training and validation RMSE vs. time, could see it takes more time to converge larger or smaller batchsizes.\n",
    "#      Although smaller batchsized would need fewer number of epoch to converge, it takes more iteration to update weight during\n",
    "#      each epoch. That could also be shown in the last plot. \n",
    "\n",
    "# In order to achieve the computational efficiency, better to choose the batchsizes not too small or too large. "
   ]
  },
  {
   "cell_type": "markdown",
   "metadata": {
    "id": "m0XR0IpjlJwN"
   },
   "source": [
    "## Part 5 - Gradient Descent Learning Rate \n",
    "Use the function that you designed in Part 4 to investigate the effect of learning rate on convergence.\n",
    "\n",
    "Select the best batch size based on the fastest convergence time and sweep the learning rate (at least 10 values) while applying Mini-batch GD. \n",
    "  1. Plot the training and validation RMSE vs **epoch** (x-axis) for all the learning rates that you tried in a figure. \n",
    "  2. Plot the training and validation RMSE vs **time** (x-axis) for all the learning rates that you tried in a figure.  \n",
    "  3. Describe your findings, including the main takeawyas from each of your plots.  \n"
   ]
  },
  {
   "cell_type": "code",
   "execution_count": 16,
   "metadata": {
    "executionInfo": {
     "elapsed": 84718,
     "status": "ok",
     "timestamp": 1606677839798,
     "user": {
      "displayName": "Fan Zhu",
      "photoUrl": "",
      "userId": "13386576356368939467"
     },
     "user_tz": 300
    },
    "id": "bCNBEUhcDAxr"
   },
   "outputs": [],
   "source": [
    "# Select batchsize = 128 based on the fastest convergence time in part 4, sweep the learning rate while applying Mini-batch GD\n",
    "\n",
    "# tried lr = 0.00001, 0.0001, 0.03, 1, won't converge \n",
    "# try1 = mini_batch (X_train, y_train, X_test, y_test, 128, 0.0001, threshold, 20000)\n",
    "# try2 = mini_batch (X_train, y_train, X_test, y_test, 128, 0.03, threshold, 20000)\n",
    "# try3 = mini_batch (X_train, y_train, X_test, y_test, 128, 1, threshold, 20000)\n",
    " \n",
    "# It might take long time to converge when lr < 0.0001 or lr > 0.03, and the interation numbers it take to converge \n",
    "# exceed the total number of iterations we set."
   ]
  },
  {
   "cell_type": "code",
   "execution_count": 17,
   "metadata": {
    "colab": {
     "base_uri": "https://localhost:8080/",
     "height": 573
    },
    "executionInfo": {
     "elapsed": 134959,
     "status": "ok",
     "timestamp": 1606677890055,
     "user": {
      "displayName": "Fan Zhu",
      "photoUrl": "",
      "userId": "13386576356368939467"
     },
     "user_tz": 300
    },
    "id": "LObIlem6HnaQ",
    "outputId": "b6a1871e-cac5-4785-ab64-709313c10772"
   },
   "outputs": [
    {
     "data": {
      "image/png": "[encoded data removed]",
      "text/plain": [
       "<Figure size 432x288 with 1 Axes>"
      ]
     },
     "metadata": {
      "needs_background": "light",
      "tags": []
     },
     "output_type": "display_data"
    },
    {
     "data": {
      "image/png": "[encoded data removed]",
      "text/plain": [
       "<Figure size 432x288 with 1 Axes>"
      ]
     },
     "metadata": {
      "needs_background": "light",
      "tags": []
     },
     "output_type": "display_data"
    }
   ],
   "source": [
    "# 1. Plot the training and validation RMSE vs epoch (x-axis) for all the learning rates that you tried in a figure. \n",
    "# np.random.seed(1090)\n",
    "\n",
    "lr_array=[0.0004, 0.0006, 0.0008, 0.001, 0.003, 0.005, 0.007, 0.009, 0.011, 0.013]\n",
    "\n",
    "# Training RMSE vs. Epoch\n",
    "plt.figure()\n",
    "for l in lr_array:\n",
    "  output= mini_batch (X_train, y_train, X_test, y_test, 128, l, threshold, 20000)\n",
    "  rmse_training = output[2]\n",
    "  plt.plot(rmse_training,label='lr =' + str(l))\n",
    "plt.title('Training RMSE vs. Epoch')\n",
    "plt.xlabel(\"Epoch #\")\n",
    "plt.ylabel(\"Training RMSE\")\n",
    "plt.legend()\n",
    "\n",
    "# Validation RMSE vs. Epoch\n",
    "plt.figure()\n",
    "for l in lr_array:\n",
    "  output= mini_batch (X_train, y_train, X_test, y_test, 128, l, threshold, 20000)\n",
    "  rmse_validation= output[1]\n",
    "  plt.plot(rmse_validation,label='lr =' + str(l))\n",
    "plt.title('Validation RMSE vs. Epoch')\n",
    "plt.xlabel(\"Epoch #\")\n",
    "plt.ylabel(\"Validation RMSE\")\n",
    "plt.legend()\n",
    "plt.show()\n",
    "\n",
    "# Describe findings the last part of this question \n"
   ]
  },
  {
   "cell_type": "code",
   "execution_count": 18,
   "metadata": {
    "colab": {
     "base_uri": "https://localhost:8080/",
     "height": 573
    },
    "executionInfo": {
     "elapsed": 185126,
     "status": "ok",
     "timestamp": 1606677940252,
     "user": {
      "displayName": "Fan Zhu",
      "photoUrl": "",
      "userId": "13386576356368939467"
     },
     "user_tz": 300
    },
    "id": "dS-ZukDNIy3X",
    "outputId": "c59b205f-4874-4409-ff12-8a1140a25f85"
   },
   "outputs": [
    {
     "data": {
      "image/png": "[encoded data removed]",
      "text/plain": [
       "<Figure size 432x288 with 1 Axes>"
      ]
     },
     "metadata": {
      "needs_background": "light",
      "tags": []
     },
     "output_type": "display_data"
    },
    {
     "data": {
      "image/png": "[encoded data removed]",
      "text/plain": [
       "<Figure size 432x288 with 1 Axes>"
      ]
     },
     "metadata": {
      "needs_background": "light",
      "tags": []
     },
     "output_type": "display_data"
    }
   ],
   "source": [
    "# 2. Plot the training and validation RMSE vs time (x-axis) for all the learning rates that you tried in a figure. \n",
    "# np.random.seed(1090)\n",
    "\n",
    "# Training RMSE vs. Time\n",
    "plt.figure()\n",
    "for l in lr_array:\n",
    "  output= mini_batch (X_train, y_train, X_test, y_test, 128, l, threshold, 20000)\n",
    "  time_array= output[3]\n",
    "  rmse_training= output[2]\n",
    "  plt.plot(time_array,rmse_training,label='lr ='+ str(l))\n",
    "\n",
    "plt.title('Training RMSE vs. Time')\n",
    "plt.xlabel(\"Time\")\n",
    "plt.ylabel(\"Training RMSE\")\n",
    "plt.legend()\n",
    "\n",
    "# Validation RMSE vs. time\n",
    "plt.figure()\n",
    "for l in lr_array:\n",
    "  output= mini_batch (X_train, y_train, X_test, y_test, 128, l, threshold, 20000)\n",
    "  time_array= output[3]\n",
    "  rmse_validation= output[1]\n",
    "  plt.plot(time_array,rmse_validation,label='lr ='+ str(l))\n",
    "plt.title('Validation RMSE vs. time')\n",
    "plt.xlabel(\"Time\")\n",
    "plt.ylabel(\"Validation RMSE\")\n",
    "plt.legend()\n",
    "plt.show()\n",
    "\n",
    "# Describe findings the last part of this question \n"
   ]
  },
  {
   "cell_type": "code",
   "execution_count": 19,
   "metadata": {
    "executionInfo": {
     "elapsed": 185117,
     "status": "ok",
     "timestamp": 1606677940254,
     "user": {
      "displayName": "Fan Zhu",
      "photoUrl": "",
      "userId": "13386576356368939467"
     },
     "user_tz": 300
    },
    "id": "SfHdyZ2rJmZ1"
   },
   "outputs": [],
   "source": [
    "# 3. Describe your findings, including the main takeawyas from each of your plots. \n",
    "\n",
    "# It might take long time to converge when lr < 0.0001 or lr > 0.03, and the interation numbers it take to converge \n",
    "# exceed the total number of iterations we set. Since small lr updates weights slowly, large lr flucuate a lot. \n",
    "\n",
    "# For good learning rate values (not too small or too large):\n",
    "# From the plot of training and validation RMSE vs. epoch, could see it takes more epoch to converge smaller lr.\n",
    "# From the plot of training and validation RMSE vs. time, could see it takes more time to converge smaller lr. \n",
    "\n",
    "# In order to achieve the computational efficiency, better to choose the batchsizes around 0.01. "
   ]
  },
  {
   "cell_type": "markdown",
   "metadata": {
    "id": "_APuh43i3NHU"
   },
   "source": [
    "## Part 6 - Gradient Descent with Adaptive Learning Rate  \n",
    "Implement an adaptive learning rate scheme where you start a mini-batch gradient descent with a large learning rate and decrease the learning rate while you are getting closer to the local minima. It's up to you to come up with a way to set **when** and **how much** do you want to change the learning rate. \n",
    "Our goal is to find a method for faster convergence. \n",
    "  1. Describe **[1]** and implement your method.\n",
    "  2. Plot the training and validation RMSE vs **epoch** for your method (adaptive learning rate), alongside your best training run from Part 5 (static learning rate).  \n",
    "  3. Plot the training and validation RMSE vs **time** for your method (adaptive learning rate), alongside your best training run from Part 5 (static learning rate).  "
   ]
  },
  {
   "cell_type": "code",
   "execution_count": 20,
   "metadata": {
    "colab": {
     "base_uri": "https://localhost:8080/"
    },
    "executionInfo": {
     "elapsed": 186525,
     "status": "ok",
     "timestamp": 1606677941675,
     "user": {
      "displayName": "Fan Zhu",
      "photoUrl": "",
      "userId": "13386576356368939467"
     },
     "user_tz": 300
    },
    "id": "VwCWoSv3P3hH",
    "outputId": "ff69d146-93b7-415d-c4ee-a53f87bbe11b"
   },
   "outputs": [
    {
     "name": "stdout",
     "output_type": "stream",
     "text": [
      "0.016\n"
     ]
    }
   ],
   "source": [
    "# 1. Describe the method.\n",
    "\n",
    "# Choosing starting lr like 0.02 to avoid divergent cases, too large learning rate like 1 would lead to divergent. \n",
    "# Setting the change of learning rate equals to 0.001 (or number smaller than 0.001). \n",
    "# In order to find the local minima, using for loop and schema of running time to converge.\n",
    "# During each interation:\n",
    "#        1. If the running time with the new (after decrease) lr would converge faster than the old (before decrease) lr,\n",
    "#        than keep running the iteration and decreasing the lr. \n",
    "#        2. Otherwise, break the for loop. \n",
    "# Finally, the for loop would output a lr that give the relatively smaller running time. \n",
    "\n",
    "\n",
    "# Implement the method.\n",
    "lr_initial = 0.02\n",
    "time_initial = mini_batch(X_train, y_train, X_test, y_test, 128, 0.02, threshold, 20000)[3][-1]\n",
    "time_new = 0\n",
    "\n",
    "for i in range(1000):\n",
    "  time_new = mini_batch(X_train, y_train, X_test, y_test, 128, lr_initial - 0.001, threshold, 20000)[3][-1]\n",
    "  if  time_new < time_initial:\n",
    "    time_initial= time_new *1 \n",
    "    lr_initial = lr_initial - 0.002\n",
    "  else:\n",
    "    break\n",
    "print (lr_initial) \n",
    " "
   ]
  },
  {
   "cell_type": "code",
   "execution_count": 21,
   "metadata": {
    "colab": {
     "base_uri": "https://localhost:8080/",
     "height": 573
    },
    "executionInfo": {
     "elapsed": 188204,
     "status": "ok",
     "timestamp": 1606677943372,
     "user": {
      "displayName": "Fan Zhu",
      "photoUrl": "",
      "userId": "13386576356368939467"
     },
     "user_tz": 300
    },
    "id": "J6y-mK8r5TD3",
    "outputId": "9cde95a8-d56d-4303-bf59-4aeee096f50a"
   },
   "outputs": [
    {
     "data": {
      "image/png": "[encoded data removed]",
      "text/plain": [
       "<Figure size 432x288 with 1 Axes>"
      ]
     },
     "metadata": {
      "needs_background": "light",
      "tags": []
     },
     "output_type": "display_data"
    },
    {
     "data": {
      "image/png": "[encoded data removed]",
      "text/plain": [
       "<Figure size 432x288 with 1 Axes>"
      ]
     },
     "metadata": {
      "needs_background": "light",
      "tags": []
     },
     "output_type": "display_data"
    }
   ],
   "source": [
    "# 2. Plot the training and validation RMSE vs epoch for your method (adaptive learning rate), alongside your best training run from Part 5 \n",
    "\n",
    "lr_array=[0.013,lr_initial]\n",
    "\n",
    "# Training RMSE vs. Epoch\n",
    "plt.figure()\n",
    "for l in lr_array:\n",
    "  output= mini_batch (X_train, y_train, X_test, y_test, 128, l, threshold, 20000)\n",
    "  rmse_training = output[2]\n",
    "  plt.plot(rmse_training,label='lr =' + str(l))\n",
    "plt.title('Training RMSE vs. Epoch')\n",
    "plt.xlabel(\"Epoch #\")\n",
    "plt.ylabel(\"Training RMSE\")\n",
    "plt.legend()\n",
    "\n",
    "# Validation RMSE vs. Epoch\n",
    "plt.figure()\n",
    "for l in lr_array:\n",
    "  output= mini_batch (X_train, y_train, X_test, y_test, 128, l, threshold, 20000)\n",
    "  rmse_validation= output[1]\n",
    "  plt.plot(rmse_validation,label='lr =' + str(l))\n",
    "plt.title('Validation RMSE vs. Epoch')\n",
    "plt.xlabel(\"Epoch #\")\n",
    "plt.ylabel(\"Validation RMSE\")\n",
    "plt.legend()\n",
    "\n",
    "plt.show()"
   ]
  },
  {
   "cell_type": "code",
   "execution_count": 22,
   "metadata": {
    "colab": {
     "base_uri": "https://localhost:8080/",
     "height": 573
    },
    "executionInfo": {
     "elapsed": 189775,
     "status": "ok",
     "timestamp": 1606677944967,
     "user": {
      "displayName": "Fan Zhu",
      "photoUrl": "",
      "userId": "13386576356368939467"
     },
     "user_tz": 300
    },
    "id": "fiNmsp1CyRHp",
    "outputId": "142a82d0-dafe-4b84-9a14-99bdb04fbc72"
   },
   "outputs": [
    {
     "data": {
      "image/png": "[encoded data removed]",
      "text/plain": [
       "<Figure size 432x288 with 1 Axes>"
      ]
     },
     "metadata": {
      "needs_background": "light",
      "tags": []
     },
     "output_type": "display_data"
    },
    {
     "data": {
      "image/png": "[encoded data removed]",
      "text/plain": [
       "<Figure size 432x288 with 1 Axes>"
      ]
     },
     "metadata": {
      "needs_background": "light",
      "tags": []
     },
     "output_type": "display_data"
    }
   ],
   "source": [
    "# 3. Plot the training and validation RMSE vs time for your method, alongside your best training run from Part 5  \n",
    "\n",
    "# Training RMSE vs. Time\n",
    "plt.figure()\n",
    "for l in lr_array:\n",
    "  output= mini_batch (X_train, y_train, X_test, y_test, 128, l, threshold, 20000)\n",
    "  time_array= output[3]\n",
    "  rmse_training= output[2]\n",
    "  plt.plot(time_array,rmse_training,label='lr ='+ str(l))\n",
    "\n",
    "plt.title('Training RMSE vs. Time')\n",
    "plt.xlabel(\"Time\")\n",
    "plt.ylabel(\"Training RMSE\")\n",
    "plt.legend()\n",
    "\n",
    "# Validation RMSE vs. time\n",
    "plt.figure()\n",
    "for l in lr_array:\n",
    "  output= mini_batch (X_train, y_train, X_test, y_test, 128, l, threshold, 20000)\n",
    "  time_array= output[3]\n",
    "  rmse_validation= output[1]\n",
    "  plt.plot(time_array,rmse_validation,label='lr ='+ str(l))\n",
    "plt.title('Validation RMSE vs. time')\n",
    "plt.xlabel(\"Time\")\n",
    "plt.ylabel(\"Validation RMSE\")\n",
    "plt.legend()\n",
    "\n",
    "plt.show()\n",
    "\n",
    "# from the 'Validation RMSE vs. time' plot, adaptive lr use less time than static one. "
   ]
  },
  {
   "cell_type": "markdown",
   "metadata": {
    "id": "f-1qJzYLYJTW"
   },
   "source": [
    "## Part 7 - Gradient Descent with Additional Features and Regularization  \n",
    "\n",
    "Now, we'll apply linear regresssion to a toy dataset (`LR_data.csv`), with 10 features `x1`-`x10` and a \"measurement\" `y`. We'll take a few shortcuts by using built-in sklearn functions.\n",
    "\n",
    "1. Data Preparation  \n",
    "  * Print the dataset, and create Numpy arrays with inputs (X) and outputs (y). \n",
    "  * Split the dataset into training and validation sets (80% training, 20% validation). When splitting, set `random_state=1`.\n",
    "\n",
    "2. Linear Regression  \n",
    "  * Standardize the data using StandardScaler from sklearn.\n",
    "  * Use the `sklearn.linear_model.LinearRegression` function [here](https://scikit-learn.org/stable/modules/generated/sklearn.linear_model.LinearRegression.html) to perform linear regression.\n",
    "  * Print the RMSE for training and validation data.\n",
    "\n",
    "3. Linear Regression with Additional Features  \n",
    "  * Let's add more features to our dataset (up to degree 8) using `sklearn.preprocessing.PolynomialFeatures` [here](https://scikit-learn.org/stable/modules/generated/sklearn.preprocessing.PolynomialFeatures.html). You'll want to create the additional features first, then perform standardization (start from non-standardized data).\n",
    "  * Again, use `sklearn.linear_model.LinearRegression` to perform linear regression.\n",
    "  * Print the RMSE for training and validation data.\n",
    "\n",
    "4. Linear Regression with Additional Features and Regularization  \n",
    "  * Let's switch models, and instead use the `sklearn.linear_model.Ridge` function [here](https://scikit-learn.org/stable/modules/generated/sklearn.linear_model.Ridge.html#sklearn.linear_model.Ridge) to perform linear regression with regularization. Apply the model to the processed data (additional, standardized) you used in 3 above. Use a `FOR` loop to run `sklearn.linear_model.Ridge` with different `alpha` values. Specifically, sweep `alpha` from 1E-2 to 1E10 (each step is an order of magnitude jump).\n",
    "\n",
    "5. Discuss your results. What do you conclude?  "
   ]
  },
  {
   "cell_type": "code",
   "execution_count": 23,
   "metadata": {
    "executionInfo": {
     "elapsed": 190144,
     "status": "ok",
     "timestamp": 1606677945350,
     "user": {
      "displayName": "Fan Zhu",
      "photoUrl": "",
      "userId": "13386576356368939467"
     },
     "user_tz": 300
    },
    "id": "qyfNlZsiubVk"
   },
   "outputs": [],
   "source": [
    "import pandas as pd\n",
    "df=pd.read_csv(\"https://www.eecg.utoronto.ca/~hadizade/APS1070/LR_data.csv\" , skipinitialspace=True)"
   ]
  },
  {
   "cell_type": "code",
   "execution_count": 24,
   "metadata": {
    "colab": {
     "base_uri": "https://localhost:8080/"
    },
    "executionInfo": {
     "elapsed": 190141,
     "status": "ok",
     "timestamp": 1606677945357,
     "user": {
      "displayName": "Fan Zhu",
      "photoUrl": "",
      "userId": "13386576356368939467"
     },
     "user_tz": 300
    },
    "id": "blpLUcERFAPz",
    "outputId": "dbf7c88b-6251-449d-e4cc-cde97df15cea"
   },
   "outputs": [
    {
     "name": "stdout",
     "output_type": "stream",
     "text": [
      "           x1        x2        x3  ...        x9       x10             y\n",
      "0    1.454481  4.940543  7.116015  ...  3.841250  6.121133  6.575066e+06\n",
      "1    4.907182  1.653654  7.339445  ...  8.646473  3.806860  8.419881e+06\n",
      "2    1.842804  1.183878  4.203206  ...  3.260723  5.463808  9.745537e+04\n",
      "3    2.393457  0.094127  3.208929  ...  7.312995  5.475240  1.129200e+04\n",
      "4    5.093724  3.905293  4.858562  ...  9.128607  0.790795  3.105448e+05\n",
      "..        ...       ...       ...  ...       ...       ...           ...\n",
      "195  2.936450  2.094812  9.493814  ...  7.622569  3.037162  6.599726e+07\n",
      "196  4.915597  1.953974  7.312552  ...  7.043560  5.745565  8.176250e+06\n",
      "197  6.772096  6.406489  4.638352  ...  9.386478  4.147710  2.144147e+05\n",
      "198  3.940339  4.330498  6.693371  ...  7.883720  8.525164  4.028735e+06\n",
      "199  8.636129  1.272939  4.339175  ...  9.543772  5.673870  1.257168e+05\n",
      "\n",
      "[200 rows x 11 columns]\n"
     ]
    }
   ],
   "source": [
    "# 1. Data Preparation \n",
    "\n",
    "# Print the dataset \n",
    "print(df)\n",
    "\n",
    "# create Numpy arrays with inputs (X) and outputs (y).\n",
    "X = np.array(df.iloc[:,0:10])\n",
    "y = df['y']\n",
    " \n",
    "# Split the dataset into training and validation sets (80% training, 20% validation). When splitting, set random_state=1.\n",
    "X_train, X_test, y_train, y_test = train_test_split(X , y, test_size=0.2, random_state=1)\n"
   ]
  },
  {
   "cell_type": "code",
   "execution_count": 25,
   "metadata": {
    "colab": {
     "base_uri": "https://localhost:8080/"
    },
    "executionInfo": {
     "elapsed": 190129,
     "status": "ok",
     "timestamp": 1606677945359,
     "user": {
      "displayName": "Fan Zhu",
      "photoUrl": "",
      "userId": "13386576356368939467"
     },
     "user_tz": 300
    },
    "id": "xdZro8QsFAgq",
    "outputId": "bc618870-42c5-466f-82f0-fb95f0a98d7c"
   },
   "outputs": [
    {
     "name": "stdout",
     "output_type": "stream",
     "text": [
      "RMSE for training :  16296980.655667372\n",
      "RMSE for validation:  14061578.864980105\n"
     ]
    }
   ],
   "source": [
    "# 2. Linear Regression  \n",
    "\n",
    "# Standardize the data using StandardScaler from sklearn\n",
    "scalar = StandardScaler().fit(X_train)\n",
    "X_train2=pd.DataFrame(scalar.transform(X_train))\n",
    "X_test2=pd.DataFrame(scalar.transform(X_test))\n",
    " \n",
    "# No need to insert a first column of 1s, done by LinearRegression\n",
    "# Use the sklearn.linear_model.LinearRegression function here to perform linear regression.\n",
    "reg = LinearRegression().fit(X_train2, y_train)\n",
    "\n",
    "# Print the RMSE for training and validation data.\n",
    "y_train_pred= reg.predict(X_train2)\n",
    "y_test_pred= reg.predict(X_test2)\n",
    "\n",
    "RMSE_training = rmse(y_train_pred, y_train)\n",
    "RMSE_validation =  rmse(y_test_pred, y_test)\n",
    "\n",
    "print('RMSE for training : ', RMSE_training)\n",
    "print('RMSE for validation: ', RMSE_validation)"
   ]
  },
  {
   "cell_type": "code",
   "execution_count": 26,
   "metadata": {
    "colab": {
     "base_uri": "https://localhost:8080/"
    },
    "executionInfo": {
     "elapsed": 191731,
     "status": "ok",
     "timestamp": 1606677946975,
     "user": {
      "displayName": "Fan Zhu",
      "photoUrl": "",
      "userId": "13386576356368939467"
     },
     "user_tz": 300
    },
    "id": "Qrbsm6PYHy7u",
    "outputId": "334cffca-9a38-4823-bbd3-4a8c1c2f1be9"
   },
   "outputs": [
    {
     "name": "stdout",
     "output_type": "stream",
     "text": [
      "RMSE for training :  1.1677265447323795e-07\n",
      "RMSE for validation:  10920642.2173942\n"
     ]
    }
   ],
   "source": [
    "# 3. Linear Regression with Additional Features  \n",
    "\n",
    "# Let's add more features to our dataset (up to degree 8) using sklearn.preprocessing.PolynomialFeatures. \n",
    "# You'll want to create the additional features first, then perform standardization (start from non-standardized data).\n",
    "from sklearn.preprocessing import PolynomialFeatures\n",
    "\n",
    "poly = PolynomialFeatures(degree=8)\n",
    "\n",
    "X_train3= poly.fit_transform(X_train)\n",
    "X_test3= poly.transform(X_test)\n",
    "\n",
    "# Standardize the data using StandardScaler from sklearn\n",
    "scalar = StandardScaler().fit(X_train3)\n",
    "X_train3= pd.DataFrame(scalar.transform(X_train3))\n",
    "X_test3= pd.DataFrame(scalar.transform(X_test3))\n",
    "# X_test3= pd.DataFrame(X_test3)\n",
    "\n",
    "# Insert a first column of 1s in both the training and validation data sets.\n",
    "X_train3.insert(loc=0, column='', value=np.ones(X_train3.shape[0]))\n",
    "X_test3.insert(loc=0, column='', value=np.ones(X_test3.shape[0]))\n",
    "\n",
    "# Again, use sklearn.linear_model.LinearRegression to perform linear regression.\n",
    "reg = LinearRegression().fit(X_train3, y_train)\n",
    "\n",
    "# Print the RMSE for training and validation data.\n",
    "y_train_pred= reg.predict(X_train3)\n",
    "y_test_pred= reg.predict(X_test3)\n",
    "\n",
    "RMSE_training = rmse(y_train_pred, y_train)\n",
    "RMSE_validation =  rmse(y_test_pred, y_test)\n",
    "\n",
    "print('RMSE for training : ', RMSE_training)\n",
    "print('RMSE for validation: ', RMSE_validation)\n"
   ]
  },
  {
   "cell_type": "code",
   "execution_count": 27,
   "metadata": {
    "executionInfo": {
     "elapsed": 195949,
     "status": "ok",
     "timestamp": 1606677951204,
     "user": {
      "displayName": "Fan Zhu",
      "photoUrl": "",
      "userId": "13386576356368939467"
     },
     "user_tz": 300
    },
    "id": "11yWUxBC8F2e"
   },
   "outputs": [],
   "source": [
    "# 4.Linear Regression with Additional Features and Regularization  \n",
    "\n",
    "# use the sklearn.linear_model.Ridge function here to perform linear regression with regularization. \n",
    "# Apply the model to the processed data (additional, standardized) you used in 3 above. \n",
    "from sklearn.linear_model import Ridge\n",
    "\n",
    "# Use a FOR loop to run sklearn.linear_model.Ridge with different alpha values. Specifically, sweep alpha from 1E-2 to 1E10 \n",
    "# (each step is an order of magnitude jump).\n",
    "\n",
    "# Insert a first column of 1s in both the training and validation data sets.\n",
    "# X_train3.insert(loc=0, column='', value=np.ones(X_train3.shape[0]))\n",
    "# X_test3.insert(loc=0, column='', value=np.ones(X_test3.shape[0]))\n",
    "\n",
    "\n",
    "alpha_array= [10**-2, 10**-1, 10**0, 10**1, 10**2, 10**3, 10**4, 10**5, 10**6, 10**7, 10**8, 10**9, 10**10]\n",
    " \n",
    "RMSE_training= []\n",
    "RMSE_validation= []\n",
    "\n",
    "for i in alpha_array:\n",
    "  clf = Ridge(alpha=i)\n",
    "  clf.fit(X_train3, y_train)\n",
    "  y_train_pred=clf.predict(X_train3)\n",
    "  y_test_pred= clf.predict(X_test3)\n",
    "  \n",
    "  RMSE_training.append(rmse(y_train_pred, y_train)) \n",
    "  RMSE_validation.append(rmse(y_test_pred, y_test)) \n"
   ]
  },
  {
   "cell_type": "code",
   "execution_count": 28,
   "metadata": {
    "colab": {
     "base_uri": "https://localhost:8080/",
     "height": 573
    },
    "executionInfo": {
     "elapsed": 196236,
     "status": "ok",
     "timestamp": 1606677951513,
     "user": {
      "displayName": "Fan Zhu",
      "photoUrl": "",
      "userId": "13386576356368939467"
     },
     "user_tz": 300
    },
    "id": "Mt27fPB2EEnM",
    "outputId": "1a7cfd16-dea3-4e13-a51a-269e020b3ddc"
   },
   "outputs": [
    {
     "data": {
      "image/png": "[encoded data removed]",
      "text/plain": [
       "<Figure size 432x288 with 1 Axes>"
      ]
     },
     "metadata": {
      "needs_background": "light",
      "tags": []
     },
     "output_type": "display_data"
    },
    {
     "data": {
      "image/png": "[encoded data removed]",
      "text/plain": [
       "<Figure size 432x288 with 1 Axes>"
      ]
     },
     "metadata": {
      "needs_background": "light",
      "tags": []
     },
     "output_type": "display_data"
    }
   ],
   "source": [
    "# 5.Discuss your results. What do you conclude? \n",
    "\n",
    "# RMSE vs. Iteration\n",
    "plt.figure()\n",
    "iteration= np.arange(1,14,1) \n",
    "plt.plot(iteration, RMSE_training,label='RMSE_training')\n",
    "plt.plot(iteration, RMSE_validation,label='RMSE_validation')\n",
    "\n",
    "plt.title('RMSE vs. Iteration')\n",
    "plt.xlabel(\"# iteration\")\n",
    "plt.ylabel(\"RMSE\")\n",
    "plt.legend()\n",
    " \n",
    "# RMSE vs. Alpha\n",
    "plt.figure()\n",
    "plt.plot(alpha_array,RMSE_training,label='lr =')\n",
    "plt.plot(alpha_array,RMSE_validation,label='lr =')\n",
    "\n",
    "plt.title('RMSE vs. Alpha')\n",
    "plt.xlabel(\"Alpha\")\n",
    "plt.ylabel(\"RMSE\")\n",
    "plt.show()\n",
    "\n",
    "# lowest validation error, when regularization strength = 10000\n",
    "\n",
    "# The training error increasing while increase the regularization strength.\n",
    "# The validation error is large when regularization strength too small or too large, best performance when regularization strength = 10000."
   ]
  },
  {
   "cell_type": "code",
   "execution_count": 29,
   "metadata": {
    "colab": {
     "base_uri": "https://localhost:8080/",
     "height": 142
    },
    "executionInfo": {
     "elapsed": 196217,
     "status": "ok",
     "timestamp": 1606677951514,
     "user": {
      "displayName": "Fan Zhu",
      "photoUrl": "",
      "userId": "13386576356368939467"
     },
     "user_tz": 300
    },
    "id": "Rh-I5_8D8MsO",
    "outputId": "81d0a8e7-d77b-4771-e75a-6468e870a70b"
   },
   "outputs": [
    {
     "data": {
      "text/html": [
       "<div>\n",
       "<style scoped>\n",
       "    .dataframe tbody tr th:only-of-type {\n",
       "        vertical-align: middle;\n",
       "    }\n",
       "\n",
       "    .dataframe tbody tr th {\n",
       "        vertical-align: top;\n",
       "    }\n",
       "\n",
       "    .dataframe thead th {\n",
       "        text-align: right;\n",
       "    }\n",
       "</style>\n",
       "<table border=\"1\" class=\"dataframe\">\n",
       "  <thead>\n",
       "    <tr style=\"text-align: right;\">\n",
       "      <th></th>\n",
       "      <th></th>\n",
       "      <th>RMSE_training</th>\n",
       "      <th>RMSE_validation</th>\n",
       "    </tr>\n",
       "  </thead>\n",
       "  <tbody>\n",
       "    <tr>\n",
       "      <th>0</th>\n",
       "      <td>Linear regression</td>\n",
       "      <td>16296980.65</td>\n",
       "      <td>14061578.86</td>\n",
       "    </tr>\n",
       "    <tr>\n",
       "      <th>1</th>\n",
       "      <td>Additional Features</td>\n",
       "      <td>1.17e-07</td>\n",
       "      <td>10920642.22</td>\n",
       "    </tr>\n",
       "    <tr>\n",
       "      <th>2</th>\n",
       "      <td>Regularization (alpha = 10000)</td>\n",
       "      <td>4521905.58</td>\n",
       "      <td>7712389.43</td>\n",
       "    </tr>\n",
       "  </tbody>\n",
       "</table>\n",
       "</div>"
      ],
      "text/plain": [
       "                                  RMSE_training RMSE_validation\n",
       "0               Linear regression   16296980.65     14061578.86\n",
       "1             Additional Features      1.17e-07     10920642.22\n",
       "2  Regularization (alpha = 10000)    4521905.58      7712389.43"
      ]
     },
     "execution_count": 29,
     "metadata": {
      "tags": []
     },
     "output_type": "execute_result"
    }
   ],
   "source": [
    "pd.DataFrame(np.array([['Linear regression', 16296980.65,         14061578.86], \n",
    "                             ['Additional Features', 1.17e-07,          10920642.22], \n",
    "                             ['Regularization (alpha = 10000)', 4521905.58, 7712389.43]]),\n",
    "                   columns=['', 'RMSE_training', 'RMSE_validation'])\n",
    "\n",
    "\n",
    "# 1. Linear regression has largest training and validation error due to underfitting.\n",
    "# 2. Linear regression with additional features has almost zero training error but high validation error due to overfitting\n",
    "#   (add too much features).\n",
    "# 3. Linear regression with additional features and regularization \n",
    "#          (choose the best case with lowest validation error, when regularization strength = 10000 )\n",
    "#           regularization prevent the overfitting, penalty lower the vilidation error.\n",
    "# Among all 3 method, the third approach gives the best performance."
   ]
  },
  {
   "cell_type": "markdown",
   "metadata": {
    "id": "0cS99Cxw3NHV"
   },
   "source": [
    "## Part 8 - Linear Regression with a Custom Dataset \n"
   ]
  },
  {
   "cell_type": "markdown",
   "metadata": {
    "id": "zIUuhPqA1WUe"
   },
   "source": [
    "Find a dataset online and train and validate a linear regression model with the techniques you learned in this Project.\n",
    "\n",
    "*   Introduce your dataset. \n",
    "*   Explain your approach.  \n",
    "*   Summarize your results.  \n",
    "\n",
    "Hint: you can find various datasets in here: https://www.kaggle.com/datasets.\n",
    "\n",
    "To use a dataset in Colab, you can upload it in your Google drive and access it in Colab ([help here](https://medium.com/analytics-vidhya/how-to-fetch-kaggle-datasets-into-google-colab-ea682569851a)), or you can download the dataset on your local machine and upload it directly to Colab using the following script.\n",
    "\n",
    "```\n",
    "from google.colab import files\n",
    "uploaded = files.upload()\n",
    "```\n",
    "\n",
    "When submitting your project on Quercus, Please make sure you are also uploading your dataset so we can fully run your notebook.\n",
    "\n",
    "\n",
    "\n",
    "\n"
   ]
  },
  {
   "cell_type": "code",
   "execution_count": 30,
   "metadata": {
    "colab": {
     "base_uri": "https://localhost:8080/",
     "height": 725
    },
    "executionInfo": {
     "elapsed": 196460,
     "status": "ok",
     "timestamp": 1606677951774,
     "user": {
      "displayName": "Fan Zhu",
      "photoUrl": "",
      "userId": "13386576356368939467"
     },
     "user_tz": 300
    },
    "id": "pQlikNdORpfS",
    "outputId": "6d69840b-2a25-44c8-e199-41298a99f5c9"
   },
   "outputs": [
    {
     "name": "stdout",
     "output_type": "stream",
     "text": [
      "    Feature                                        Information\n",
      "0      CRIM                      per capita crime rate by town\n",
      "1       ZN   proportion of residential land zoned for lots ...\n",
      "2     INDUS   proportion of non-retail business acres per town\n",
      "3      CHAS  Charles River dummy variable (= 1 if tract bou...\n",
      "4       NOX  nitric oxides concentration (parts per 10 mill...\n",
      "5        RM               average number of rooms per dwelling\n",
      "6       AGE  proportion of owner-occupied units built prior...\n",
      "7       DIS  weighted distances to five Boston employment c...\n",
      "8       RAD          index of accessibility to radial highways\n",
      "9       TAX           full-value property-tax rate per $10,000\n",
      "10  PTRATIO                        pupil-teacher ratio by town\n",
      "11        B  1000(Bk - 0.63)^2 where Bk is the proportion o...\n",
      "12    LSTAT                   % lower status of the population\n",
      "\n",
      "dataset features:  13\n",
      "dataset observations:  506\n",
      "\n"
     ]
    },
    {
     "data": {
      "text/html": [
       "<div>\n",
       "<style scoped>\n",
       "    .dataframe tbody tr th:only-of-type {\n",
       "        vertical-align: middle;\n",
       "    }\n",
       "\n",
       "    .dataframe tbody tr th {\n",
       "        vertical-align: top;\n",
       "    }\n",
       "\n",
       "    .dataframe thead th {\n",
       "        text-align: right;\n",
       "    }\n",
       "</style>\n",
       "<table border=\"1\" class=\"dataframe\">\n",
       "  <thead>\n",
       "    <tr style=\"text-align: right;\">\n",
       "      <th></th>\n",
       "      <th>CRIM</th>\n",
       "      <th>ZN</th>\n",
       "      <th>INDUS</th>\n",
       "      <th>CHAS</th>\n",
       "      <th>NOX</th>\n",
       "      <th>RM</th>\n",
       "      <th>AGE</th>\n",
       "      <th>DIS</th>\n",
       "      <th>RAD</th>\n",
       "      <th>TAX</th>\n",
       "      <th>PTRATIO</th>\n",
       "      <th>B</th>\n",
       "      <th>LSTAT</th>\n",
       "      <th>house_prices</th>\n",
       "    </tr>\n",
       "  </thead>\n",
       "  <tbody>\n",
       "    <tr>\n",
       "      <th>0</th>\n",
       "      <td>0.00632</td>\n",
       "      <td>18.0</td>\n",
       "      <td>2.31</td>\n",
       "      <td>0.0</td>\n",
       "      <td>0.538</td>\n",
       "      <td>6.575</td>\n",
       "      <td>65.2</td>\n",
       "      <td>4.0900</td>\n",
       "      <td>1.0</td>\n",
       "      <td>296.0</td>\n",
       "      <td>15.3</td>\n",
       "      <td>396.90</td>\n",
       "      <td>4.98</td>\n",
       "      <td>24.0</td>\n",
       "    </tr>\n",
       "    <tr>\n",
       "      <th>1</th>\n",
       "      <td>0.02731</td>\n",
       "      <td>0.0</td>\n",
       "      <td>7.07</td>\n",
       "      <td>0.0</td>\n",
       "      <td>0.469</td>\n",
       "      <td>6.421</td>\n",
       "      <td>78.9</td>\n",
       "      <td>4.9671</td>\n",
       "      <td>2.0</td>\n",
       "      <td>242.0</td>\n",
       "      <td>17.8</td>\n",
       "      <td>396.90</td>\n",
       "      <td>9.14</td>\n",
       "      <td>21.6</td>\n",
       "    </tr>\n",
       "    <tr>\n",
       "      <th>2</th>\n",
       "      <td>0.02729</td>\n",
       "      <td>0.0</td>\n",
       "      <td>7.07</td>\n",
       "      <td>0.0</td>\n",
       "      <td>0.469</td>\n",
       "      <td>7.185</td>\n",
       "      <td>61.1</td>\n",
       "      <td>4.9671</td>\n",
       "      <td>2.0</td>\n",
       "      <td>242.0</td>\n",
       "      <td>17.8</td>\n",
       "      <td>392.83</td>\n",
       "      <td>4.03</td>\n",
       "      <td>34.7</td>\n",
       "    </tr>\n",
       "    <tr>\n",
       "      <th>3</th>\n",
       "      <td>0.03237</td>\n",
       "      <td>0.0</td>\n",
       "      <td>2.18</td>\n",
       "      <td>0.0</td>\n",
       "      <td>0.458</td>\n",
       "      <td>6.998</td>\n",
       "      <td>45.8</td>\n",
       "      <td>6.0622</td>\n",
       "      <td>3.0</td>\n",
       "      <td>222.0</td>\n",
       "      <td>18.7</td>\n",
       "      <td>394.63</td>\n",
       "      <td>2.94</td>\n",
       "      <td>33.4</td>\n",
       "    </tr>\n",
       "    <tr>\n",
       "      <th>4</th>\n",
       "      <td>0.06905</td>\n",
       "      <td>0.0</td>\n",
       "      <td>2.18</td>\n",
       "      <td>0.0</td>\n",
       "      <td>0.458</td>\n",
       "      <td>7.147</td>\n",
       "      <td>54.2</td>\n",
       "      <td>6.0622</td>\n",
       "      <td>3.0</td>\n",
       "      <td>222.0</td>\n",
       "      <td>18.7</td>\n",
       "      <td>396.90</td>\n",
       "      <td>5.33</td>\n",
       "      <td>36.2</td>\n",
       "    </tr>\n",
       "    <tr>\n",
       "      <th>...</th>\n",
       "      <td>...</td>\n",
       "      <td>...</td>\n",
       "      <td>...</td>\n",
       "      <td>...</td>\n",
       "      <td>...</td>\n",
       "      <td>...</td>\n",
       "      <td>...</td>\n",
       "      <td>...</td>\n",
       "      <td>...</td>\n",
       "      <td>...</td>\n",
       "      <td>...</td>\n",
       "      <td>...</td>\n",
       "      <td>...</td>\n",
       "      <td>...</td>\n",
       "    </tr>\n",
       "    <tr>\n",
       "      <th>501</th>\n",
       "      <td>0.06263</td>\n",
       "      <td>0.0</td>\n",
       "      <td>11.93</td>\n",
       "      <td>0.0</td>\n",
       "      <td>0.573</td>\n",
       "      <td>6.593</td>\n",
       "      <td>69.1</td>\n",
       "      <td>2.4786</td>\n",
       "      <td>1.0</td>\n",
       "      <td>273.0</td>\n",
       "      <td>21.0</td>\n",
       "      <td>391.99</td>\n",
       "      <td>9.67</td>\n",
       "      <td>22.4</td>\n",
       "    </tr>\n",
       "    <tr>\n",
       "      <th>502</th>\n",
       "      <td>0.04527</td>\n",
       "      <td>0.0</td>\n",
       "      <td>11.93</td>\n",
       "      <td>0.0</td>\n",
       "      <td>0.573</td>\n",
       "      <td>6.120</td>\n",
       "      <td>76.7</td>\n",
       "      <td>2.2875</td>\n",
       "      <td>1.0</td>\n",
       "      <td>273.0</td>\n",
       "      <td>21.0</td>\n",
       "      <td>396.90</td>\n",
       "      <td>9.08</td>\n",
       "      <td>20.6</td>\n",
       "    </tr>\n",
       "    <tr>\n",
       "      <th>503</th>\n",
       "      <td>0.06076</td>\n",
       "      <td>0.0</td>\n",
       "      <td>11.93</td>\n",
       "      <td>0.0</td>\n",
       "      <td>0.573</td>\n",
       "      <td>6.976</td>\n",
       "      <td>91.0</td>\n",
       "      <td>2.1675</td>\n",
       "      <td>1.0</td>\n",
       "      <td>273.0</td>\n",
       "      <td>21.0</td>\n",
       "      <td>396.90</td>\n",
       "      <td>5.64</td>\n",
       "      <td>23.9</td>\n",
       "    </tr>\n",
       "    <tr>\n",
       "      <th>504</th>\n",
       "      <td>0.10959</td>\n",
       "      <td>0.0</td>\n",
       "      <td>11.93</td>\n",
       "      <td>0.0</td>\n",
       "      <td>0.573</td>\n",
       "      <td>6.794</td>\n",
       "      <td>89.3</td>\n",
       "      <td>2.3889</td>\n",
       "      <td>1.0</td>\n",
       "      <td>273.0</td>\n",
       "      <td>21.0</td>\n",
       "      <td>393.45</td>\n",
       "      <td>6.48</td>\n",
       "      <td>22.0</td>\n",
       "    </tr>\n",
       "    <tr>\n",
       "      <th>505</th>\n",
       "      <td>0.04741</td>\n",
       "      <td>0.0</td>\n",
       "      <td>11.93</td>\n",
       "      <td>0.0</td>\n",
       "      <td>0.573</td>\n",
       "      <td>6.030</td>\n",
       "      <td>80.8</td>\n",
       "      <td>2.5050</td>\n",
       "      <td>1.0</td>\n",
       "      <td>273.0</td>\n",
       "      <td>21.0</td>\n",
       "      <td>396.90</td>\n",
       "      <td>7.88</td>\n",
       "      <td>11.9</td>\n",
       "    </tr>\n",
       "  </tbody>\n",
       "</table>\n",
       "<p>506 rows × 14 columns</p>\n",
       "</div>"
      ],
      "text/plain": [
       "        CRIM    ZN  INDUS  CHAS  ...  PTRATIO       B  LSTAT  house_prices\n",
       "0    0.00632  18.0   2.31   0.0  ...     15.3  396.90   4.98          24.0\n",
       "1    0.02731   0.0   7.07   0.0  ...     17.8  396.90   9.14          21.6\n",
       "2    0.02729   0.0   7.07   0.0  ...     17.8  392.83   4.03          34.7\n",
       "3    0.03237   0.0   2.18   0.0  ...     18.7  394.63   2.94          33.4\n",
       "4    0.06905   0.0   2.18   0.0  ...     18.7  396.90   5.33          36.2\n",
       "..       ...   ...    ...   ...  ...      ...     ...    ...           ...\n",
       "501  0.06263   0.0  11.93   0.0  ...     21.0  391.99   9.67          22.4\n",
       "502  0.04527   0.0  11.93   0.0  ...     21.0  396.90   9.08          20.6\n",
       "503  0.06076   0.0  11.93   0.0  ...     21.0  396.90   5.64          23.9\n",
       "504  0.10959   0.0  11.93   0.0  ...     21.0  393.45   6.48          22.0\n",
       "505  0.04741   0.0  11.93   0.0  ...     21.0  396.90   7.88          11.9\n",
       "\n",
       "[506 rows x 14 columns]"
      ]
     },
     "execution_count": 30,
     "metadata": {
      "tags": []
     },
     "output_type": "execute_result"
    }
   ],
   "source": [
    "from sklearn.datasets import load_boston\n",
    "boston= load_boston() \n",
    "\n",
    "# Introduce your dataset.\n",
    "features_intro = pd.DataFrame(np.array([['CRIM', 'per capita crime rate by town'], \n",
    "                       ['ZN ', 'proportion of residential land zoned for lots over 25,000 sq.ft'], \n",
    "                       ['INDUS', 'proportion of non-retail business acres per town'],\n",
    "                       ['CHAS','Charles River dummy variable (= 1 if tract bounds river; 0 otherwise'],\n",
    "                       ['NOX','nitric oxides concentration (parts per 10 million)'],\n",
    "                       ['RM','average number of rooms per dwelling'],\n",
    "                       ['AGE', 'proportion of owner-occupied units built prior to 1940'],\n",
    "                       ['DIS','weighted distances to five Boston employment centres'],\n",
    "                       ['RAD', 'index of accessibility to radial highways'],\n",
    "                       ['TAX','full-value property-tax rate per $10,000'],\n",
    "                       ['PTRATIO','pupil-teacher ratio by town'],\n",
    "                       ['B','1000(Bk - 0.63)^2 where Bk is the proportion of blacks by town'],\n",
    "                       ['LSTAT','% lower status of the population']\n",
    "                       ]),\n",
    "                   columns=['Feature', 'Information'])\n",
    "\n",
    "print(features_intro)\n",
    "print ('')\n",
    "\n",
    "boston_X = pd.DataFrame(boston.data)\n",
    "boston_X.columns = list(boston.feature_names)\n",
    "print (\"dataset features: \", boston_X.shape[1])\n",
    "print (\"dataset observations: \", boston_X.shape[0])\n",
    "print ('')\n",
    "\n",
    "boston_y = pd.DataFrame(boston.target)\n",
    "boston_y.columns= ['house_prices']\n",
    "boston = boston_X.append(boston_y)\n",
    "\n",
    "pd.concat([boston_X, boston_y], axis=1)"
   ]
  },
  {
   "cell_type": "code",
   "execution_count": 31,
   "metadata": {
    "executionInfo": {
     "elapsed": 196448,
     "status": "ok",
     "timestamp": 1606677951778,
     "user": {
      "displayName": "Fan Zhu",
      "photoUrl": "",
      "userId": "13386576356368939467"
     },
     "user_tz": 300
    },
    "id": "jVUJ49-MrRlu"
   },
   "outputs": [],
   "source": [
    "# Explain your approach. \n",
    "\n",
    "# Use three regression method, find one gives the smallest validation error\n",
    "# 1. Linear regression\n",
    "# 2. Linear regression with additional features \n",
    "# 3. Linear regression with additional features and regularization  \n",
    "\n",
    "# Split the dataset into training and validation sets (80% training, 20% validation). When splitting, set random_state=1.\n",
    "X_train, X_test, y_train, y_test = train_test_split(boston_X , boston_y, test_size=0.2, random_state=1)\n",
    " "
   ]
  },
  {
   "cell_type": "code",
   "execution_count": 32,
   "metadata": {
    "colab": {
     "base_uri": "https://localhost:8080/"
    },
    "executionInfo": {
     "elapsed": 196443,
     "status": "ok",
     "timestamp": 1606677951782,
     "user": {
      "displayName": "Fan Zhu",
      "photoUrl": "",
      "userId": "13386576356368939467"
     },
     "user_tz": 300
    },
    "id": "a02HkTO_x6DD",
    "outputId": "e8b21197-1178-430b-c4c9-3077cb00fe71"
   },
   "outputs": [
    {
     "name": "stdout",
     "output_type": "stream",
     "text": [
      "RMSE for training :  4.675766751547773\n",
      "RMSE for validation:  4.835373458200537\n"
     ]
    }
   ],
   "source": [
    "# 1. Linear regression\n",
    "\n",
    "# Standardize the data using StandardScaler from sklearn\n",
    "scalar = StandardScaler().fit(X_train)\n",
    "X_train2=pd.DataFrame(scalar.transform(X_train))\n",
    "X_test2=pd.DataFrame(scalar.transform(X_test))\n",
    "\n",
    "# Use the sklearn.linear_model.LinearRegression function here to perform linear regression.\n",
    "reg = LinearRegression().fit(X_train2, y_train)\n",
    "\n",
    "# Print the RMSE for training and validation data.\n",
    "y_train_pred= reg.predict(X_train2)\n",
    "y_test_pred= reg.predict(X_test2)\n",
    "\n",
    "RMSE_training = rmse(y_train_pred, y_train)\n",
    "RMSE_validation =  rmse(y_test_pred, y_test)\n",
    "\n",
    "print('RMSE for training : ', RMSE_training)\n",
    "print('RMSE for validation: ', RMSE_validation)"
   ]
  },
  {
   "cell_type": "code",
   "execution_count": 33,
   "metadata": {
    "colab": {
     "base_uri": "https://localhost:8080/"
    },
    "executionInfo": {
     "elapsed": 196574,
     "status": "ok",
     "timestamp": 1606677951928,
     "user": {
      "displayName": "Fan Zhu",
      "photoUrl": "",
      "userId": "13386576356368939467"
     },
     "user_tz": 300
    },
    "id": "9KhJ1VS6emiD",
    "outputId": "45ac87f6-6439-4183-c9f7-63ecd49a0526"
   },
   "outputs": [
    {
     "name": "stdout",
     "output_type": "stream",
     "text": [
      "RMSE for training :  1.3166157141417224e-11\n",
      "RMSE for validation:  39.92167278341052\n"
     ]
    }
   ],
   "source": [
    "# 2. Linear regression with additional features \n",
    "\n",
    "poly = PolynomialFeatures(degree=3)\n",
    "X_train3= poly.fit_transform(X_train)\n",
    "X_test3= poly.transform(X_test)\n",
    "\n",
    "# Standardize the data using StandardScaler from sklearn\n",
    "scalar = StandardScaler().fit(X_train3)\n",
    "X_train3= pd.DataFrame(scalar.transform(X_train3))\n",
    "X_test3= pd.DataFrame(scalar.transform(X_test3))\n",
    "# X_test3= pd.DataFrame(X_test3)\n",
    "\n",
    "# Insert a first column of 1s in both the training and validation data sets.\n",
    "X_train3.insert(loc=0, column='', value=np.ones(X_train3.shape[0]))\n",
    "X_test3.insert(loc=0, column='', value=np.ones(X_test3.shape[0]))\n",
    "\n",
    "# Again, use sklearn.linear_model.LinearRegression to perform linear regression.\n",
    "reg = LinearRegression().fit(X_train3, y_train)\n",
    "\n",
    "# Print the RMSE for training and validation data.\n",
    "y_train_pred= reg.predict(X_train3)\n",
    "y_test_pred= reg.predict(X_test3)\n",
    "\n",
    "RMSE_training = rmse(y_train_pred, y_train)\n",
    "RMSE_validation =  rmse(y_test_pred, y_test)\n",
    "\n",
    "print('RMSE for training : ', RMSE_training)\n",
    "print('RMSE for validation: ', RMSE_validation)\n"
   ]
  },
  {
   "cell_type": "code",
   "execution_count": 34,
   "metadata": {
    "colab": {
     "base_uri": "https://localhost:8080/",
     "height": 312
    },
    "executionInfo": {
     "elapsed": 197071,
     "status": "ok",
     "timestamp": 1606677952444,
     "user": {
      "displayName": "Fan Zhu",
      "photoUrl": "",
      "userId": "13386576356368939467"
     },
     "user_tz": 300
    },
    "id": "rhaYVjpTemu9",
    "outputId": "87eeb73b-b733-4dd2-fd54-a61763b15f21"
   },
   "outputs": [
    {
     "data": {
      "text/plain": [
       "<matplotlib.legend.Legend at 0x7efd48c58fd0>"
      ]
     },
     "execution_count": 34,
     "metadata": {
      "tags": []
     },
     "output_type": "execute_result"
    },
    {
     "data": {
      "image/png": "[encoded data removed]",
      "text/plain": [
       "<Figure size 432x288 with 1 Axes>"
      ]
     },
     "metadata": {
      "needs_background": "light",
      "tags": []
     },
     "output_type": "display_data"
    }
   ],
   "source": [
    "# 3. Linear regression with additional features and regularization  \n",
    "\n",
    "alpha_array= [10**-2, 10**-1, 10**0, 10**1, 10**2, 10**3, 10**4, 10**5, 10**6, 10**7, 10**8, 10**9, 10**10]\n",
    " \n",
    "RMSE_training= []\n",
    "RMSE_validation= []\n",
    "\n",
    "for i in alpha_array:\n",
    "  clf = Ridge(alpha=i)\n",
    "  clf.fit(X_train3, y_train)\n",
    "  y_train_pred=clf.predict(X_train3)\n",
    "  y_test_pred= clf.predict(X_test3)\n",
    "  \n",
    "  RMSE_training.append(rmse(y_train_pred, y_train)) \n",
    "  RMSE_validation.append(rmse(y_test_pred, y_test)) \n",
    "\n",
    "# RMSE vs. Iteration\n",
    "plt.figure()\n",
    "iteration= np.arange(1,14,1) \n",
    "plt.plot(iteration, RMSE_training,label='RMSE_training')\n",
    "plt.plot(iteration, RMSE_validation,label='RMSE_validation')\n",
    "\n",
    "plt.title('RMSE vs. Iteration')\n",
    "plt.xlabel(\"# iteration\")\n",
    "plt.ylabel(\"RMSE\")\n",
    "plt.legend()\n",
    "\n",
    "# lowest validation error, when regularization strength = 1 "
   ]
  },
  {
   "cell_type": "code",
   "execution_count": 35,
   "metadata": {
    "colab": {
     "base_uri": "https://localhost:8080/",
     "height": 142
    },
    "executionInfo": {
     "elapsed": 197051,
     "status": "ok",
     "timestamp": 1606677952446,
     "user": {
      "displayName": "Fan Zhu",
      "photoUrl": "",
      "userId": "13386576356368939467"
     },
     "user_tz": 300
    },
    "id": "teughsFUw32o",
    "outputId": "3979daf1-91e9-4206-f8e0-0a106a73b2bb"
   },
   "outputs": [
    {
     "data": {
      "text/html": [
       "<div>\n",
       "<style scoped>\n",
       "    .dataframe tbody tr th:only-of-type {\n",
       "        vertical-align: middle;\n",
       "    }\n",
       "\n",
       "    .dataframe tbody tr th {\n",
       "        vertical-align: top;\n",
       "    }\n",
       "\n",
       "    .dataframe thead th {\n",
       "        text-align: right;\n",
       "    }\n",
       "</style>\n",
       "<table border=\"1\" class=\"dataframe\">\n",
       "  <thead>\n",
       "    <tr style=\"text-align: right;\">\n",
       "      <th></th>\n",
       "      <th></th>\n",
       "      <th>RMSE_training</th>\n",
       "      <th>RMSE_validation</th>\n",
       "    </tr>\n",
       "  </thead>\n",
       "  <tbody>\n",
       "    <tr>\n",
       "      <th>0</th>\n",
       "      <td>Linear regression</td>\n",
       "      <td>4.6757</td>\n",
       "      <td>4.8353</td>\n",
       "    </tr>\n",
       "    <tr>\n",
       "      <th>1</th>\n",
       "      <td>Additional Features</td>\n",
       "      <td>1.3166e-11</td>\n",
       "      <td>39.9217</td>\n",
       "    </tr>\n",
       "    <tr>\n",
       "      <th>2</th>\n",
       "      <td>Regularization (alpha=1)</td>\n",
       "      <td>2.0016</td>\n",
       "      <td>2.5642</td>\n",
       "    </tr>\n",
       "  </tbody>\n",
       "</table>\n",
       "</div>"
      ],
      "text/plain": [
       "                            RMSE_training RMSE_validation\n",
       "0         Linear regression        4.6757          4.8353\n",
       "1       Additional Features    1.3166e-11         39.9217\n",
       "2  Regularization (alpha=1)        2.0016          2.5642"
      ]
     },
     "execution_count": 35,
     "metadata": {
      "tags": []
     },
     "output_type": "execute_result"
    }
   ],
   "source": [
    "# Summarize your results. \n",
    "\n",
    "pd.DataFrame(np.array([['Linear regression', 4.6757,         4.8353], \n",
    "                             ['Additional Features', 1.3166e-11,          39.9217], \n",
    "                             ['Regularization (alpha=1)', 2.0016, 2.5642]]),\n",
    "                   columns=['', 'RMSE_training', 'RMSE_validation'])\n",
    "\n",
    "# The linear regression with additional features and regularization gives the best performance (lowest validation error)."
   ]
  },
  {
   "cell_type": "code",
   "execution_count": 35,
   "metadata": {
    "executionInfo": {
     "elapsed": 197039,
     "status": "ok",
     "timestamp": 1606677952451,
     "user": {
      "displayName": "Fan Zhu",
      "photoUrl": "",
      "userId": "13386576356368939467"
     },
     "user_tz": 300
    },
    "id": "fWUpPYbv1LmQ"
   },
   "outputs": [],
   "source": []
  }
 ],
 "metadata": {
  "colab": {
   "collapsed_sections": [],
   "name": "Project_4.ipynb",
   "provenance": []
  },
  "kernelspec": {
   "display_name": "Python 3",
   "language": "python",
   "name": "python3"
  },
  "language_info": {
   "codemirror_mode": {
    "name": "ipython",
    "version": 3
   },
   "file_extension": ".py",
   "mimetype": "text/x-python",
   "name": "python",
   "nbconvert_exporter": "python",
   "pygments_lexer": "ipython3",
   "version": "3.6.2"
  }
 },
 "nbformat": 4,
 "nbformat_minor": 1
}
